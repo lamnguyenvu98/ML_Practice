{
 "cells": [
  {
   "cell_type": "code",
   "execution_count": 2,
   "metadata": {},
   "outputs": [],
   "source": [
    "import os\n",
    "try:\n",
    "    import patoolib\n",
    "except:\n",
    "    !pip install patoolib\n",
    "\n",
    "path = '..\\\\3. Dataset\\\\AI Specialist Lesson 03\\\\'\n",
    "if not os.path.exists(path):\n",
    "    patoolib.extract_archive('..\\\\3. Dataset\\\\AI Specialist Lesson 03.zip')\n",
    "\n",
    "os.chdir(path)"
   ]
  },
  {
   "cell_type": "code",
   "execution_count": 3,
   "metadata": {},
   "outputs": [],
   "source": [
    "import numpy as np\n",
    "import pandas as pd\n",
    "import matplotlib.pyplot as plt\n",
    "import seaborn as sns\n",
    "\n",
    "from IPython.display import display, Image"
   ]
  },
  {
   "cell_type": "code",
   "execution_count": 4,
   "metadata": {},
   "outputs": [
    {
     "data": {
      "text/html": [
       "<div>\n",
       "<style scoped>\n",
       "    .dataframe tbody tr th:only-of-type {\n",
       "        vertical-align: middle;\n",
       "    }\n",
       "\n",
       "    .dataframe tbody tr th {\n",
       "        vertical-align: top;\n",
       "    }\n",
       "\n",
       "    .dataframe thead th {\n",
       "        text-align: right;\n",
       "    }\n",
       "</style>\n",
       "<table border=\"1\" class=\"dataframe\">\n",
       "  <thead>\n",
       "    <tr style=\"text-align: right;\">\n",
       "      <th></th>\n",
       "      <th>Age</th>\n",
       "      <th>Height</th>\n",
       "      <th>Weight</th>\n",
       "    </tr>\n",
       "  </thead>\n",
       "  <tbody>\n",
       "    <tr>\n",
       "      <th>0</th>\n",
       "      <td>10</td>\n",
       "      <td>138</td>\n",
       "      <td>23.0</td>\n",
       "    </tr>\n",
       "    <tr>\n",
       "      <th>1</th>\n",
       "      <td>11</td>\n",
       "      <td>138</td>\n",
       "      <td>22.0</td>\n",
       "    </tr>\n",
       "    <tr>\n",
       "      <th>2</th>\n",
       "      <td>12</td>\n",
       "      <td>138</td>\n",
       "      <td>23.5</td>\n",
       "    </tr>\n",
       "    <tr>\n",
       "      <th>3</th>\n",
       "      <td>13</td>\n",
       "      <td>139</td>\n",
       "      <td>24.0</td>\n",
       "    </tr>\n",
       "    <tr>\n",
       "      <th>4</th>\n",
       "      <td>14</td>\n",
       "      <td>139</td>\n",
       "      <td>26.0</td>\n",
       "    </tr>\n",
       "  </tbody>\n",
       "</table>\n",
       "</div>"
      ],
      "text/plain": [
       "   Age  Height  Weight\n",
       "0   10     138    23.0\n",
       "1   11     138    22.0\n",
       "2   12     138    23.5\n",
       "3   13     139    24.0\n",
       "4   14     139    26.0"
      ]
     },
     "metadata": {},
     "output_type": "display_data"
    },
    {
     "name": "stdout",
     "output_type": "stream",
     "text": [
      "(71, 3)\n"
     ]
    }
   ],
   "source": [
    "data = pd.read_csv(\"person_data.csv\")\n",
    "display(data.head())\n",
    "print(data.shape)"
   ]
  },
  {
   "cell_type": "code",
   "execution_count": 8,
   "metadata": {},
   "outputs": [
    {
     "data": {
      "text/html": [
       "<div>\n",
       "<style scoped>\n",
       "    .dataframe tbody tr th:only-of-type {\n",
       "        vertical-align: middle;\n",
       "    }\n",
       "\n",
       "    .dataframe tbody tr th {\n",
       "        vertical-align: top;\n",
       "    }\n",
       "\n",
       "    .dataframe thead th {\n",
       "        text-align: right;\n",
       "    }\n",
       "</style>\n",
       "<table border=\"1\" class=\"dataframe\">\n",
       "  <thead>\n",
       "    <tr style=\"text-align: right;\">\n",
       "      <th></th>\n",
       "      <th>Age</th>\n",
       "      <th>Height</th>\n",
       "      <th>Weight</th>\n",
       "    </tr>\n",
       "  </thead>\n",
       "  <tbody>\n",
       "    <tr>\n",
       "      <th>count</th>\n",
       "      <td>71.000000</td>\n",
       "      <td>71.000000</td>\n",
       "      <td>71.000000</td>\n",
       "    </tr>\n",
       "    <tr>\n",
       "      <th>mean</th>\n",
       "      <td>45.000000</td>\n",
       "      <td>160.873239</td>\n",
       "      <td>65.281690</td>\n",
       "    </tr>\n",
       "    <tr>\n",
       "      <th>std</th>\n",
       "      <td>20.639767</td>\n",
       "      <td>20.842902</td>\n",
       "      <td>17.752805</td>\n",
       "    </tr>\n",
       "    <tr>\n",
       "      <th>min</th>\n",
       "      <td>10.000000</td>\n",
       "      <td>138.000000</td>\n",
       "      <td>22.000000</td>\n",
       "    </tr>\n",
       "    <tr>\n",
       "      <th>25%</th>\n",
       "      <td>27.500000</td>\n",
       "      <td>143.500000</td>\n",
       "      <td>59.750000</td>\n",
       "    </tr>\n",
       "    <tr>\n",
       "      <th>50%</th>\n",
       "      <td>45.000000</td>\n",
       "      <td>155.000000</td>\n",
       "      <td>70.000000</td>\n",
       "    </tr>\n",
       "    <tr>\n",
       "      <th>75%</th>\n",
       "      <td>62.500000</td>\n",
       "      <td>171.500000</td>\n",
       "      <td>77.000000</td>\n",
       "    </tr>\n",
       "    <tr>\n",
       "      <th>max</th>\n",
       "      <td>80.000000</td>\n",
       "      <td>208.000000</td>\n",
       "      <td>96.000000</td>\n",
       "    </tr>\n",
       "  </tbody>\n",
       "</table>\n",
       "</div>"
      ],
      "text/plain": [
       "             Age      Height     Weight\n",
       "count  71.000000   71.000000  71.000000\n",
       "mean   45.000000  160.873239  65.281690\n",
       "std    20.639767   20.842902  17.752805\n",
       "min    10.000000  138.000000  22.000000\n",
       "25%    27.500000  143.500000  59.750000\n",
       "50%    45.000000  155.000000  70.000000\n",
       "75%    62.500000  171.500000  77.000000\n",
       "max    80.000000  208.000000  96.000000"
      ]
     },
     "metadata": {},
     "output_type": "display_data"
    }
   ],
   "source": [
    "StatsDF = data.describe(include='all')\n",
    "display(StatsDF)"
   ]
  },
  {
   "cell_type": "code",
   "execution_count": 9,
   "metadata": {},
   "outputs": [
    {
     "data": {
      "image/png": "[encoded data removed]",
      "text/plain": [
       "<Figure size 1080x504 with 1 Axes>"
      ]
     },
     "metadata": {
      "needs_background": "light"
     },
     "output_type": "display_data"
    }
   ],
   "source": [
    "# Data visualization\n",
    "feature_Y = \"Weight\"\n",
    "feature_X = \"Age\"\n",
    "\n",
    "plt.figure(figsize=(15, 7))\n",
    "plt.scatter(data[feature_X], data[feature_Y])\n",
    "plt.title(f'{feature_X} vs {feature_Y}')\n",
    "plt.xlabel(feature_X)\n",
    "plt.ylabel(feature_Y)\n",
    "plt.show()"
   ]
  },
  {
   "cell_type": "code",
   "execution_count": 10,
   "metadata": {},
   "outputs": [
    {
     "data": {
      "image/png": "[encoded data removed]",
      "text/plain": [
       "<Figure size 1080x504 with 1 Axes>"
      ]
     },
     "metadata": {
      "needs_background": "light"
     },
     "output_type": "display_data"
    }
   ],
   "source": [
    "# Data visualization\n",
    "feature_Y = \"Weight\"\n",
    "feature_X = \"Height\"\n",
    "\n",
    "plt.figure(figsize=(15, 7))\n",
    "plt.scatter(data[feature_X], data[feature_Y])\n",
    "plt.title(f'{feature_X} vs {feature_Y}')\n",
    "plt.xlabel(feature_X)\n",
    "plt.ylabel(feature_Y)\n",
    "plt.show()"
   ]
  },
  {
   "cell_type": "code",
   "execution_count": 13,
   "metadata": {},
   "outputs": [
    {
     "name": "stdout",
     "output_type": "stream",
     "text": [
      "[[ 10 138]\n",
      " [ 11 138]\n",
      " [ 12 138]\n",
      " [ 13 139]\n",
      " [ 14 139]]\n",
      "[23.  22.  23.5 24.  26. ]\n"
     ]
    }
   ],
   "source": [
    "feature = [\"Age\", \"Height\"]\n",
    "target = \"Weight\"\n",
    "\n",
    "X = data[feature].values\n",
    "y = data[target].values\n",
    "\n",
    "print(X[:5])\n",
    "print(y[:5])"
   ]
  },
  {
   "cell_type": "code",
   "execution_count": 14,
   "metadata": {},
   "outputs": [
    {
     "name": "stdout",
     "output_type": "stream",
     "text": [
      "Before scaling: Mean = [ 45.         160.87323944], Std = [20.49390153 20.69560039]\n",
      "After scaling: Mean = [3.12738880e-18 2.50191104e-16], Std = [1. 1.]\n"
     ]
    }
   ],
   "source": [
    "from sklearn.preprocessing import StandardScaler\n",
    "\n",
    "sc  = StandardScaler()\n",
    "X_scaled = sc.fit_transform(X)\n",
    "\n",
    "print(f'Before scaling: Mean = {np.mean(X, axis=0)}, Std = {np.std(X, axis=0)}')\n",
    "print(f'After scaling: Mean = {np.mean(X_scaled, axis=0)}, Std = {np.std(X_scaled, axis=0)}')"
   ]
  },
  {
   "cell_type": "code",
   "execution_count": 15,
   "metadata": {},
   "outputs": [
    {
     "name": "stdout",
     "output_type": "stream",
     "text": [
      "[[-1.98912492  0.42610453]\n",
      " [-1.95462165  0.39160125]\n",
      " [-1.92011837  0.35709798]\n",
      " [-1.85144808  0.35676171]\n",
      " [-1.8169448   0.32225843]]\n"
     ]
    }
   ],
   "source": [
    "from sklearn.decomposition import PCA \n",
    "\n",
    "pca = PCA()\n",
    "X_pca = pca.fit_transform(X_scaled)\n",
    "print(X_pca[:5])"
   ]
  },
  {
   "cell_type": "code",
   "execution_count": 16,
   "metadata": {},
   "outputs": [
    {
     "name": "stdout",
     "output_type": "stream",
     "text": [
      "[97.36416205  2.63583795]\n"
     ]
    }
   ],
   "source": [
    "print(pca.explained_variance_ratio_ * 100)"
   ]
  },
  {
   "cell_type": "code",
   "execution_count": 18,
   "metadata": {},
   "outputs": [
    {
     "name": "stdout",
     "output_type": "stream",
     "text": [
      "[[-1.98912492]\n",
      " [-1.95462165]\n",
      " [-1.92011837]\n",
      " [-1.85144808]\n",
      " [-1.8169448 ]]\n",
      "(71, 1)\n"
     ]
    }
   ],
   "source": [
    "pca = PCA(n_components=1, random_state=12)\n",
    "X_pca = pca.fit_transform(X_scaled)\n",
    "print(X_pca[:5])\n",
    "print(X_pca.shape)"
   ]
  },
  {
   "cell_type": "code",
   "execution_count": 19,
   "metadata": {},
   "outputs": [
    {
     "data": {
      "image/png": "[encoded data removed]",
      "text/plain": [
       "<Figure size 1080x504 with 1 Axes>"
      ]
     },
     "metadata": {
      "needs_background": "light"
     },
     "output_type": "display_data"
    }
   ],
   "source": [
    "# Data visualization\n",
    "feature_Y = \"Weight\"\n",
    "feature_X = \"PCA_1\"\n",
    "\n",
    "plt.figure(figsize=(15, 7))\n",
    "plt.scatter(X_pca, data[feature_Y])\n",
    "plt.title(f'{feature_X} vs {feature_Y}')\n",
    "plt.xlabel(feature_X)\n",
    "plt.ylabel(feature_Y)\n",
    "plt.show()"
   ]
  },
  {
   "cell_type": "code",
   "execution_count": 20,
   "metadata": {},
   "outputs": [
    {
     "name": "stdout",
     "output_type": "stream",
     "text": [
      "[[-1.98912492  3.95661797 -7.87020741 15.65482573]\n",
      " [-1.95462165  3.82054578 -7.46772149 14.59657007]\n",
      " [-1.92011837  3.68685455 -7.07919715 13.59289647]\n",
      " [-1.85144808  3.42786    -6.34650481 11.75022416]\n",
      " [-1.8169448   3.30128842 -5.99825883 10.89850522]]\n",
      "(71, 4)\n"
     ]
    }
   ],
   "source": [
    "from sklearn.preprocessing import PolynomialFeatures\n",
    "\n",
    "poly_features = PolynomialFeatures(degree=4, include_bias=False)\n",
    "X_poly = poly_features.fit_transform(X_pca)\n",
    "print(X_poly[:5])\n",
    "print(X_poly.shape)"
   ]
  },
  {
   "cell_type": "code",
   "execution_count": 21,
   "metadata": {},
   "outputs": [
    {
     "name": "stdout",
     "output_type": "stream",
     "text": [
      "R2:  0.9017224665462797\n",
      "RMSE:  5.52603911447949\n"
     ]
    }
   ],
   "source": [
    "from sklearn.linear_model import LinearRegression\n",
    "from sklearn.metrics import r2_score, mean_squared_error\n",
    "\n",
    "rgr = LinearRegression()\n",
    "rgr.fit(X_poly, y)\n",
    "y_pred = rgr.predict(X_poly)\n",
    "\n",
    "print(\"R2: \", r2_score(y, y_pred))\n",
    "print(\"RMSE: \", mean_squared_error(y, y_pred, squared=False))"
   ]
  },
  {
   "cell_type": "code",
   "execution_count": 23,
   "metadata": {},
   "outputs": [
    {
     "data": {
      "image/png": "[encoded data removed]",
      "text/plain": [
       "<Figure size 1080x504 with 1 Axes>"
      ]
     },
     "metadata": {
      "needs_background": "light"
     },
     "output_type": "display_data"
    }
   ],
   "source": [
    "# Data visualization\n",
    "feature_Y = \"Weight\"\n",
    "feature_X = \"PCA_1\"\n",
    "\n",
    "plt.figure(figsize=(15, 7))\n",
    "plt.scatter(X_pca, data[feature_Y])\n",
    "plt.plot(X_pca, y_pred, color = \"red\", lw=5)\n",
    "plt.title(f'{feature_X} vs {feature_Y}')\n",
    "plt.xlabel(feature_X)\n",
    "plt.ylabel(feature_Y)\n",
    "plt.show()"
   ]
  },
  {
   "cell_type": "code",
   "execution_count": 24,
   "metadata": {},
   "outputs": [
    {
     "data": {
      "text/plain": [
       "Pipeline(steps=[('std_scaler', StandardScaler()),\n",
       "                ('pca', PCA(n_components=1, random_state=12)),\n",
       "                ('poly', PolynomialFeatures(degree=4, include_bias=False)),\n",
       "                ('regressor', LinearRegression())])"
      ]
     },
     "execution_count": 24,
     "metadata": {},
     "output_type": "execute_result"
    }
   ],
   "source": [
    "from sklearn.pipeline import Pipeline\n",
    "\n",
    "sc = StandardScaler()\n",
    "pca = PCA(n_components=1, random_state=12)\n",
    "poly_features = PolynomialFeatures(degree=4, include_bias=False)\n",
    "rgr = LinearRegression()\n",
    "\n",
    "modelling_pipeline = Pipeline([\n",
    "    ('std_scaler', sc),\n",
    "    ('pca', pca),\n",
    "    ('poly', poly_features),\n",
    "    ('regressor', rgr)\n",
    "])\n",
    "\n",
    "modelling_pipeline.fit(X, y)"
   ]
  },
  {
   "cell_type": "code",
   "execution_count": 25,
   "metadata": {},
   "outputs": [
    {
     "name": "stdout",
     "output_type": "stream",
     "text": [
      "R2:  0.9017224665462797\n",
      "RMSE:  5.52603911447949\n"
     ]
    }
   ],
   "source": [
    "y_predict_pipeline = modelling_pipeline.predict(X)\n",
    "\n",
    "print(\"R2: \", r2_score(y, y_predict_pipeline))\n",
    "print(\"RMSE: \", mean_squared_error(y, y_predict_pipeline, squared=False))"
   ]
  },
  {
   "cell_type": "code",
   "execution_count": 26,
   "metadata": {},
   "outputs": [
    {
     "data": {
      "text/plain": [
       "array([71.88471548, 74.83310691])"
      ]
     },
     "execution_count": 26,
     "metadata": {},
     "output_type": "execute_result"
    }
   ],
   "source": [
    "X_new = np.array([[22, 175], [50, 168]])\n",
    "weight_predict = modelling_pipeline.predict(X_new)\n",
    "weight_predict"
   ]
  }
 ],
 "metadata": {
  "interpreter": {
   "hash": "0ce7c99d35ae0e6353b430c824aef6531f4696d6e632fd190eda8208843e216a"
  },
  "kernelspec": {
   "display_name": "Python 3.8.12 64-bit ('AI_env': conda)",
   "language": "python",
   "name": "python3"
  },
  "language_info": {
   "codemirror_mode": {
    "name": "ipython",
    "version": 3
   },
   "file_extension": ".py",
   "mimetype": "text/x-python",
   "name": "python",
   "nbconvert_exporter": "python",
   "pygments_lexer": "ipython3",
   "version": "3.8.12"
  },
  "orig_nbformat": 4
 },
 "nbformat": 4,
 "nbformat_minor": 2
}
