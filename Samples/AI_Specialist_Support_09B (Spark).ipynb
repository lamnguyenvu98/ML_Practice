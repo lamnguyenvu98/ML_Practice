{
  "nbformat": 4,
  "nbformat_minor": 0,
  "metadata": {
    "colab": {
      "name": "AI Specialist Lesson 04(Spark).ipynb",
      "provenance": [],
      "collapsed_sections": []
    },
    "kernelspec": {
      "name": "python3",
      "display_name": "Python 3"
    },
    "language_info": {
      "name": "python"
    }
  },
  "cells": [
    {
      "cell_type": "code",
      "execution_count": 1,
      "metadata": {
        "colab": {
          "resources": {
            "http://localhost:8080/nbextensions/google.colab/files.js": {
              "data": "Ly8gQ29weXJpZ2h0IDIwMTcgR29vZ2xlIExMQwovLwovLyBMaWNlbnNlZCB1bmRlciB0aGUgQXBhY2hlIExpY2Vuc2UsIFZlcnNpb24gMi4wICh0aGUgIkxpY2Vuc2UiKTsKLy8geW91IG1heSBub3QgdXNlIHRoaXMgZmlsZSBleGNlcHQgaW4gY29tcGxpYW5jZSB3aXRoIHRoZSBMaWNlbnNlLgovLyBZb3UgbWF5IG9idGFpbiBhIGNvcHkgb2YgdGhlIExpY2Vuc2UgYXQKLy8KLy8gICAgICBodHRwOi8vd3d3LmFwYWNoZS5vcmcvbGljZW5zZXMvTElDRU5TRS0yLjAKLy8KLy8gVW5sZXNzIHJlcXVpcmVkIGJ5IGFwcGxpY2FibGUgbGF3IG9yIGFncmVlZCB0byBpbiB3cml0aW5nLCBzb2Z0d2FyZQovLyBkaXN0cmlidXRlZCB1bmRlciB0aGUgTGljZW5zZSBpcyBkaXN0cmlidXRlZCBvbiBhbiAiQVMgSVMiIEJBU0lTLAovLyBXSVRIT1VUIFdBUlJBTlRJRVMgT1IgQ09ORElUSU9OUyBPRiBBTlkgS0lORCwgZWl0aGVyIGV4cHJlc3Mgb3IgaW1wbGllZC4KLy8gU2VlIHRoZSBMaWNlbnNlIGZvciB0aGUgc3BlY2lmaWMgbGFuZ3VhZ2UgZ292ZXJuaW5nIHBlcm1pc3Npb25zIGFuZAovLyBsaW1pdGF0aW9ucyB1bmRlciB0aGUgTGljZW5zZS4KCi8qKgogKiBAZmlsZW92ZXJ2aWV3IEhlbHBlcnMgZm9yIGdvb2dsZS5jb2xhYiBQeXRob24gbW9kdWxlLgogKi8KKGZ1bmN0aW9uKHNjb3BlKSB7CmZ1bmN0aW9uIHNwYW4odGV4dCwgc3R5bGVBdHRyaWJ1dGVzID0ge30pIHsKICBjb25zdCBlbGVtZW50ID0gZG9jdW1lbnQuY3JlYXRlRWxlbWVudCgnc3BhbicpOwogIGVsZW1lbnQudGV4dENvbnRlbnQgPSB0ZXh0OwogIGZvciAoY29uc3Qga2V5IG9mIE9iamVjdC5rZXlzKHN0eWxlQXR0cmlidXRlcykpIHsKICAgIGVsZW1lbnQuc3R5bGVba2V5XSA9IHN0eWxlQXR0cmlidXRlc1trZXldOwogIH0KICByZXR1cm4gZWxlbWVudDsKfQoKLy8gTWF4IG51bWJlciBvZiBieXRlcyB3aGljaCB3aWxsIGJlIHVwbG9hZGVkIGF0IGEgdGltZS4KY29uc3QgTUFYX1BBWUxPQURfU0laRSA9IDEwMCAqIDEwMjQ7CgpmdW5jdGlvbiBfdXBsb2FkRmlsZXMoaW5wdXRJZCwgb3V0cHV0SWQpIHsKICBjb25zdCBzdGVwcyA9IHVwbG9hZEZpbGVzU3RlcChpbnB1dElkLCBvdXRwdXRJZCk7CiAgY29uc3Qgb3V0cHV0RWxlbWVudCA9IGRvY3VtZW50LmdldEVsZW1lbnRCeUlkKG91dHB1dElkKTsKICAvLyBDYWNoZSBzdGVwcyBvbiB0aGUgb3V0cHV0RWxlbWVudCB0byBtYWtlIGl0IGF2YWlsYWJsZSBmb3IgdGhlIG5leHQgY2FsbAogIC8vIHRvIHVwbG9hZEZpbGVzQ29udGludWUgZnJvbSBQeXRob24uCiAgb3V0cHV0RWxlbWVudC5zdGVwcyA9IHN0ZXBzOwoKICByZXR1cm4gX3VwbG9hZEZpbGVzQ29udGludWUob3V0cHV0SWQpOwp9CgovLyBUaGlzIGlzIHJvdWdobHkgYW4gYXN5bmMgZ2VuZXJhdG9yIChub3Qgc3VwcG9ydGVkIGluIHRoZSBicm93c2VyIHlldCksCi8vIHdoZXJlIHRoZXJlIGFyZSBtdWx0aXBsZSBhc3luY2hyb25vdXMgc3RlcHMgYW5kIHRoZSBQeXRob24gc2lkZSBpcyBnb2luZwovLyB0byBwb2xsIGZvciBjb21wbGV0aW9uIG9mIGVhY2ggc3RlcC4KLy8gVGhpcyB1c2VzIGEgUHJvbWlzZSB0byBibG9jayB0aGUgcHl0aG9uIHNpZGUgb24gY29tcGxldGlvbiBvZiBlYWNoIHN0ZXAsCi8vIHRoZW4gcGFzc2VzIHRoZSByZXN1bHQgb2YgdGhlIHByZXZpb3VzIHN0ZXAgYXMgdGhlIGlucHV0IHRvIHRoZSBuZXh0IHN0ZXAuCmZ1bmN0aW9uIF91cGxvYWRGaWxlc0NvbnRpbnVlKG91dHB1dElkKSB7CiAgY29uc3Qgb3V0cHV0RWxlbWVudCA9IGRvY3VtZW50LmdldEVsZW1lbnRCeUlkKG91dHB1dElkKTsKICBjb25zdCBzdGVwcyA9IG91dHB1dEVsZW1lbnQuc3RlcHM7CgogIGNvbnN0IG5leHQgPSBzdGVwcy5uZXh0KG91dHB1dEVsZW1lbnQubGFzdFByb21pc2VWYWx1ZSk7CiAgcmV0dXJuIFByb21pc2UucmVzb2x2ZShuZXh0LnZhbHVlLnByb21pc2UpLnRoZW4oKHZhbHVlKSA9PiB7CiAgICAvLyBDYWNoZSB0aGUgbGFzdCBwcm9taXNlIHZhbHVlIHRvIG1ha2UgaXQgYXZhaWxhYmxlIHRvIHRoZSBuZXh0CiAgICAvLyBzdGVwIG9mIHRoZSBnZW5lcmF0b3IuCiAgICBvdXRwdXRFbGVtZW50Lmxhc3RQcm9taXNlVmFsdWUgPSB2YWx1ZTsKICAgIHJldHVybiBuZXh0LnZhbHVlLnJlc3BvbnNlOwogIH0pOwp9CgovKioKICogR2VuZXJhdG9yIGZ1bmN0aW9uIHdoaWNoIGlzIGNhbGxlZCBiZXR3ZWVuIGVhY2ggYXN5bmMgc3RlcCBvZiB0aGUgdXBsb2FkCiAqIHByb2Nlc3MuCiAqIEBwYXJhbSB7c3RyaW5nfSBpbnB1dElkIEVsZW1lbnQgSUQgb2YgdGhlIGlucHV0IGZpbGUgcGlja2VyIGVsZW1lbnQuCiAqIEBwYXJhbSB7c3RyaW5nfSBvdXRwdXRJZCBFbGVtZW50IElEIG9mIHRoZSBvdXRwdXQgZGlzcGxheS4KICogQHJldHVybiB7IUl0ZXJhYmxlPCFPYmplY3Q+fSBJdGVyYWJsZSBvZiBuZXh0IHN0ZXBzLgogKi8KZnVuY3Rpb24qIHVwbG9hZEZpbGVzU3RlcChpbnB1dElkLCBvdXRwdXRJZCkgewogIGNvbnN0IGlucHV0RWxlbWVudCA9IGRvY3VtZW50LmdldEVsZW1lbnRCeUlkKGlucHV0SWQpOwogIGlucHV0RWxlbWVudC5kaXNhYmxlZCA9IGZhbHNlOwoKICBjb25zdCBvdXRwdXRFbGVtZW50ID0gZG9jdW1lbnQuZ2V0RWxlbWVudEJ5SWQob3V0cHV0SWQpOwogIG91dHB1dEVsZW1lbnQuaW5uZXJIVE1MID0gJyc7CgogIGNvbnN0IHBpY2tlZFByb21pc2UgPSBuZXcgUHJvbWlzZSgocmVzb2x2ZSkgPT4gewogICAgaW5wdXRFbGVtZW50LmFkZEV2ZW50TGlzdGVuZXIoJ2NoYW5nZScsIChlKSA9PiB7CiAgICAgIHJlc29sdmUoZS50YXJnZXQuZmlsZXMpOwogICAgfSk7CiAgfSk7CgogIGNvbnN0IGNhbmNlbCA9IGRvY3VtZW50LmNyZWF0ZUVsZW1lbnQoJ2J1dHRvbicpOwogIGlucHV0RWxlbWVudC5wYXJlbnRFbGVtZW50LmFwcGVuZENoaWxkKGNhbmNlbCk7CiAgY2FuY2VsLnRleHRDb250ZW50ID0gJ0NhbmNlbCB1cGxvYWQnOwogIGNvbnN0IGNhbmNlbFByb21pc2UgPSBuZXcgUHJvbWlzZSgocmVzb2x2ZSkgPT4gewogICAgY2FuY2VsLm9uY2xpY2sgPSAoKSA9PiB7CiAgICAgIHJlc29sdmUobnVsbCk7CiAgICB9OwogIH0pOwoKICAvLyBXYWl0IGZvciB0aGUgdXNlciB0byBwaWNrIHRoZSBmaWxlcy4KICBjb25zdCBmaWxlcyA9IHlpZWxkIHsKICAgIHByb21pc2U6IFByb21pc2UucmFjZShbcGlja2VkUHJvbWlzZSwgY2FuY2VsUHJvbWlzZV0pLAogICAgcmVzcG9uc2U6IHsKICAgICAgYWN0aW9uOiAnc3RhcnRpbmcnLAogICAgfQogIH07CgogIGNhbmNlbC5yZW1vdmUoKTsKCiAgLy8gRGlzYWJsZSB0aGUgaW5wdXQgZWxlbWVudCBzaW5jZSBmdXJ0aGVyIHBpY2tzIGFyZSBub3QgYWxsb3dlZC4KICBpbnB1dEVsZW1lbnQuZGlzYWJsZWQgPSB0cnVlOwoKICBpZiAoIWZpbGVzKSB7CiAgICByZXR1cm4gewogICAgICByZXNwb25zZTogewogICAgICAgIGFjdGlvbjogJ2NvbXBsZXRlJywKICAgICAgfQogICAgfTsKICB9CgogIGZvciAoY29uc3QgZmlsZSBvZiBmaWxlcykgewogICAgY29uc3QgbGkgPSBkb2N1bWVudC5jcmVhdGVFbGVtZW50KCdsaScpOwogICAgbGkuYXBwZW5kKHNwYW4oZmlsZS5uYW1lLCB7Zm9udFdlaWdodDogJ2JvbGQnfSkpOwogICAgbGkuYXBwZW5kKHNwYW4oCiAgICAgICAgYCgke2ZpbGUudHlwZSB8fCAnbi9hJ30pIC0gJHtmaWxlLnNpemV9IGJ5dGVzLCBgICsKICAgICAgICBgbGFzdCBtb2RpZmllZDogJHsKICAgICAgICAgICAgZmlsZS5sYXN0TW9kaWZpZWREYXRlID8gZmlsZS5sYXN0TW9kaWZpZWREYXRlLnRvTG9jYWxlRGF0ZVN0cmluZygpIDoKICAgICAgICAgICAgICAgICAgICAgICAgICAgICAgICAgICAgJ24vYSd9IC0gYCkpOwogICAgY29uc3QgcGVyY2VudCA9IHNwYW4oJzAlIGRvbmUnKTsKICAgIGxpLmFwcGVuZENoaWxkKHBlcmNlbnQpOwoKICAgIG91dHB1dEVsZW1lbnQuYXBwZW5kQ2hpbGQobGkpOwoKICAgIGNvbnN0IGZpbGVEYXRhUHJvbWlzZSA9IG5ldyBQcm9taXNlKChyZXNvbHZlKSA9PiB7CiAgICAgIGNvbnN0IHJlYWRlciA9IG5ldyBGaWxlUmVhZGVyKCk7CiAgICAgIHJlYWRlci5vbmxvYWQgPSAoZSkgPT4gewogICAgICAgIHJlc29sdmUoZS50YXJnZXQucmVzdWx0KTsKICAgICAgfTsKICAgICAgcmVhZGVyLnJlYWRBc0FycmF5QnVmZmVyKGZpbGUpOwogICAgfSk7CiAgICAvLyBXYWl0IGZvciB0aGUgZGF0YSB0byBiZSByZWFkeS4KICAgIGxldCBmaWxlRGF0YSA9IHlpZWxkIHsKICAgICAgcHJvbWlzZTogZmlsZURhdGFQcm9taXNlLAogICAgICByZXNwb25zZTogewogICAgICAgIGFjdGlvbjogJ2NvbnRpbnVlJywKICAgICAgfQogICAgfTsKCiAgICAvLyBVc2UgYSBjaHVua2VkIHNlbmRpbmcgdG8gYXZvaWQgbWVzc2FnZSBzaXplIGxpbWl0cy4gU2VlIGIvNjIxMTU2NjAuCiAgICBsZXQgcG9zaXRpb24gPSAwOwogICAgZG8gewogICAgICBjb25zdCBsZW5ndGggPSBNYXRoLm1pbihmaWxlRGF0YS5ieXRlTGVuZ3RoIC0gcG9zaXRpb24sIE1BWF9QQVlMT0FEX1NJWkUpOwogICAgICBjb25zdCBjaHVuayA9IG5ldyBVaW50OEFycmF5KGZpbGVEYXRhLCBwb3NpdGlvbiwgbGVuZ3RoKTsKICAgICAgcG9zaXRpb24gKz0gbGVuZ3RoOwoKICAgICAgY29uc3QgYmFzZTY0ID0gYnRvYShTdHJpbmcuZnJvbUNoYXJDb2RlLmFwcGx5KG51bGwsIGNodW5rKSk7CiAgICAgIHlpZWxkIHsKICAgICAgICByZXNwb25zZTogewogICAgICAgICAgYWN0aW9uOiAnYXBwZW5kJywKICAgICAgICAgIGZpbGU6IGZpbGUubmFtZSwKICAgICAgICAgIGRhdGE6IGJhc2U2NCwKICAgICAgICB9LAogICAgICB9OwoKICAgICAgbGV0IHBlcmNlbnREb25lID0gZmlsZURhdGEuYnl0ZUxlbmd0aCA9PT0gMCA/CiAgICAgICAgICAxMDAgOgogICAgICAgICAgTWF0aC5yb3VuZCgocG9zaXRpb24gLyBmaWxlRGF0YS5ieXRlTGVuZ3RoKSAqIDEwMCk7CiAgICAgIHBlcmNlbnQudGV4dENvbnRlbnQgPSBgJHtwZXJjZW50RG9uZX0lIGRvbmVgOwoKICAgIH0gd2hpbGUgKHBvc2l0aW9uIDwgZmlsZURhdGEuYnl0ZUxlbmd0aCk7CiAgfQoKICAvLyBBbGwgZG9uZS4KICB5aWVsZCB7CiAgICByZXNwb25zZTogewogICAgICBhY3Rpb246ICdjb21wbGV0ZScsCiAgICB9CiAgfTsKfQoKc2NvcGUuZ29vZ2xlID0gc2NvcGUuZ29vZ2xlIHx8IHt9OwpzY29wZS5nb29nbGUuY29sYWIgPSBzY29wZS5nb29nbGUuY29sYWIgfHwge307CnNjb3BlLmdvb2dsZS5jb2xhYi5fZmlsZXMgPSB7CiAgX3VwbG9hZEZpbGVzLAogIF91cGxvYWRGaWxlc0NvbnRpbnVlLAp9Owp9KShzZWxmKTsK",
              "ok": true,
              "headers": [
                [
                  "content-type",
                  "application/javascript"
                ]
              ],
              "status": 200,
              "status_text": ""
            }
          },
          "base_uri": "https://localhost:8080/",
          "height": 107
        },
        "id": "oP5L4UqQ6SEx",
        "outputId": "3b763cf3-f5e0-4d33-c332-30d18cc6ec9e"
      },
      "outputs": [
        {
          "output_type": "display_data",
          "data": {
            "text/plain": [
              "<IPython.core.display.HTML object>"
            ],
            "text/html": [
              "\n",
              "     <input type=\"file\" id=\"files-cea12107-6816-4bf6-b9bf-88664cdfd413\" name=\"files[]\" multiple disabled\n",
              "        style=\"border:none\" />\n",
              "     <output id=\"result-cea12107-6816-4bf6-b9bf-88664cdfd413\">\n",
              "      Upload widget is only available when the cell has been executed in the\n",
              "      current browser session. Please rerun this cell to enable.\n",
              "      </output>\n",
              "      <script src=\"/nbextensions/google.colab/files.js\"></script> "
            ]
          },
          "metadata": {}
        },
        {
          "output_type": "stream",
          "name": "stdout",
          "text": [
            "Saving combats.csv to combats.csv\n",
            "Saving pokemon.csv to pokemon.csv\n"
          ]
        }
      ],
      "source": [
        "from google.colab import files\n",
        "uploaded = files.upload()"
      ]
    },
    {
      "cell_type": "code",
      "source": [
        "import os\n",
        "os.listdir()"
      ],
      "metadata": {
        "colab": {
          "base_uri": "https://localhost:8080/"
        },
        "id": "Ws7plvlp7i9k",
        "outputId": "c3372cee-22c5-459f-9694-eda21ffdb64a"
      },
      "execution_count": 2,
      "outputs": [
        {
          "output_type": "execute_result",
          "data": {
            "text/plain": [
              "['.config', 'pokemon.csv', 'combats.csv', 'sample_data']"
            ]
          },
          "metadata": {},
          "execution_count": 2
        }
      ]
    },
    {
      "cell_type": "code",
      "source": [
        "!pip install pyspark"
      ],
      "metadata": {
        "colab": {
          "base_uri": "https://localhost:8080/"
        },
        "id": "xJGNg1VB7m8K",
        "outputId": "ec52bf21-040d-41d0-85e6-fe9917c5990b"
      },
      "execution_count": 4,
      "outputs": [
        {
          "output_type": "stream",
          "name": "stdout",
          "text": [
            "Looking in indexes: https://pypi.org/simple, https://us-python.pkg.dev/colab-wheels/public/simple/\n",
            "Collecting pyspark\n",
            "  Downloading pyspark-3.2.1.tar.gz (281.4 MB)\n",
            "\u001b[K     |████████████████████████████████| 281.4 MB 28 kB/s \n",
            "\u001b[?25hCollecting py4j==0.10.9.3\n",
            "  Downloading py4j-0.10.9.3-py2.py3-none-any.whl (198 kB)\n",
            "\u001b[K     |████████████████████████████████| 198 kB 54.6 MB/s \n",
            "\u001b[?25hBuilding wheels for collected packages: pyspark\n",
            "  Building wheel for pyspark (setup.py) ... \u001b[?25l\u001b[?25hdone\n",
            "  Created wheel for pyspark: filename=pyspark-3.2.1-py2.py3-none-any.whl size=281853642 sha256=fe6b8d2c86be0c5c9640ebc86df522c606dab77595ec8ca85ecccd0d656fd902\n",
            "  Stored in directory: /root/.cache/pip/wheels/9f/f5/07/7cd8017084dce4e93e84e92efd1e1d5334db05f2e83bcef74f\n",
            "Successfully built pyspark\n",
            "Installing collected packages: py4j, pyspark\n",
            "Successfully installed py4j-0.10.9.3 pyspark-3.2.1\n"
          ]
        }
      ]
    },
    {
      "cell_type": "code",
      "source": [
        "import pyspark\n",
        "from pyspark.sql import SparkSession"
      ],
      "metadata": {
        "id": "8BAnxEwZ8Wv7"
      },
      "execution_count": 5,
      "outputs": []
    },
    {
      "cell_type": "code",
      "source": [
        "spark=SparkSession.builder.appName('AI Specialist 04').getOrCreate()\n",
        "spark"
      ],
      "metadata": {
        "colab": {
          "base_uri": "https://localhost:8080/",
          "height": 219
        },
        "id": "YKorDO0r8hGR",
        "outputId": "e0e24ac2-b66a-494a-9d38-d331147adc83"
      },
      "execution_count": 6,
      "outputs": [
        {
          "output_type": "execute_result",
          "data": {
            "text/plain": [
              "<pyspark.sql.session.SparkSession at 0x7fd794edfd50>"
            ],
            "text/html": [
              "\n",
              "            <div>\n",
              "                <p><b>SparkSession - in-memory</b></p>\n",
              "                \n",
              "        <div>\n",
              "            <p><b>SparkContext</b></p>\n",
              "\n",
              "            <p><a href=\"http://17c3108d0e69:4040\">Spark UI</a></p>\n",
              "\n",
              "            <dl>\n",
              "              <dt>Version</dt>\n",
              "                <dd><code>v3.2.1</code></dd>\n",
              "              <dt>Master</dt>\n",
              "                <dd><code>local[*]</code></dd>\n",
              "              <dt>AppName</dt>\n",
              "                <dd><code>AI Specialist 04</code></dd>\n",
              "            </dl>\n",
              "        </div>\n",
              "        \n",
              "            </div>\n",
              "        "
            ]
          },
          "metadata": {},
          "execution_count": 6
        }
      ]
    },
    {
      "cell_type": "code",
      "source": [
        "pokemon = spark.read.option('header','true').csv('pokemon.csv') \n",
        "combat = spark.read.option('header','true').csv('combats.csv') "
      ],
      "metadata": {
        "id": "e30o9llD8qw4"
      },
      "execution_count": 53,
      "outputs": []
    },
    {
      "cell_type": "code",
      "source": [
        "display(pokemon)\n",
        "display(combat)"
      ],
      "metadata": {
        "colab": {
          "base_uri": "https://localhost:8080/",
          "height": 72
        },
        "id": "tuBc7Qmh9B-F",
        "outputId": "8db08b0b-dea8-49c3-a674-bf660fa8c68f"
      },
      "execution_count": 54,
      "outputs": [
        {
          "output_type": "display_data",
          "data": {
            "text/plain": [
              "DataFrame[#: string, Name: string, Type 1: string, Type 2: string, HP: string, Attack: string, Defense: string, Sp. Atk: string, Sp. Def: string, Speed: string, Generation: string, Legendary: string]"
            ]
          },
          "metadata": {}
        },
        {
          "output_type": "display_data",
          "data": {
            "text/plain": [
              "DataFrame[First_pokemon: string, Second_pokemon: string, Winner: string]"
            ]
          },
          "metadata": {}
        }
      ]
    },
    {
      "cell_type": "code",
      "source": [
        "pokemon.show()\n",
        "combat.show()"
      ],
      "metadata": {
        "colab": {
          "base_uri": "https://localhost:8080/"
        },
        "id": "v59jW4329oqx",
        "outputId": "5646e2ab-13cb-442f-c832-ad95e50244db"
      },
      "execution_count": 55,
      "outputs": [
        {
          "output_type": "stream",
          "name": "stdout",
          "text": [
            "+---+----------------+------+------+---+------+-------+-------+-------+-----+----------+---------+\n",
            "|  #|            Name|Type 1|Type 2| HP|Attack|Defense|Sp. Atk|Sp. Def|Speed|Generation|Legendary|\n",
            "+---+----------------+------+------+---+------+-------+-------+-------+-----+----------+---------+\n",
            "|  1|       Bulbasaur| Grass|Poison| 45|    49|     49|     65|     65|   45|         1|    FALSE|\n",
            "|  2|         Ivysaur| Grass|Poison| 60|    62|     63|     80|     80|   60|         1|    FALSE|\n",
            "|  3|        Venusaur| Grass|Poison| 80|    82|     83|    100|    100|   80|         1|    FALSE|\n",
            "|  4|   Mega Venusaur| Grass|Poison| 80|   100|    123|    122|    120|   80|         1|    FALSE|\n",
            "|  5|      Charmander|  Fire|  null| 39|    52|     43|     60|     50|   65|         1|    FALSE|\n",
            "|  6|      Charmeleon|  Fire|  null| 58|    64|     58|     80|     65|   80|         1|    FALSE|\n",
            "|  7|       Charizard|  Fire|Flying| 78|    84|     78|    109|     85|  100|         1|    FALSE|\n",
            "|  8|Mega Charizard X|  Fire|Dragon| 78|   130|    111|    130|     85|  100|         1|    FALSE|\n",
            "|  9|Mega Charizard Y|  Fire|Flying| 78|   104|     78|    159|    115|  100|         1|    FALSE|\n",
            "| 10|        Squirtle| Water|  null| 44|    48|     65|     50|     64|   43|         1|    FALSE|\n",
            "| 11|       Wartortle| Water|  null| 59|    63|     80|     65|     80|   58|         1|    FALSE|\n",
            "| 12|       Blastoise| Water|  null| 79|    83|    100|     85|    105|   78|         1|    FALSE|\n",
            "| 13|  Mega Blastoise| Water|  null| 79|   103|    120|    135|    115|   78|         1|    FALSE|\n",
            "| 14|        Caterpie|   Bug|  null| 45|    30|     35|     20|     20|   45|         1|    FALSE|\n",
            "| 15|         Metapod|   Bug|  null| 50|    20|     55|     25|     25|   30|         1|    FALSE|\n",
            "| 16|      Butterfree|   Bug|Flying| 60|    45|     50|     90|     80|   70|         1|    FALSE|\n",
            "| 17|          Weedle|   Bug|Poison| 40|    35|     30|     20|     20|   50|         1|    FALSE|\n",
            "| 18|          Kakuna|   Bug|Poison| 45|    25|     50|     25|     25|   35|         1|    FALSE|\n",
            "| 19|        Beedrill|   Bug|Poison| 65|    90|     40|     45|     80|   75|         1|    FALSE|\n",
            "| 20|   Mega Beedrill|   Bug|Poison| 65|   150|     40|     15|     80|  145|         1|    FALSE|\n",
            "+---+----------------+------+------+---+------+-------+-------+-------+-----+----------+---------+\n",
            "only showing top 20 rows\n",
            "\n",
            "+-------------+--------------+------+\n",
            "|First_pokemon|Second_pokemon|Winner|\n",
            "+-------------+--------------+------+\n",
            "|          266|           298|   298|\n",
            "|          702|           701|   701|\n",
            "|          191|           668|   668|\n",
            "|          237|           683|   683|\n",
            "|          151|           231|   151|\n",
            "|          657|           752|   657|\n",
            "|          192|           134|   134|\n",
            "|           73|           545|   545|\n",
            "|          220|           763|   763|\n",
            "|          302|            31|    31|\n",
            "|          442|           130|   130|\n",
            "|          701|           624|   701|\n",
            "|           15|           283|   283|\n",
            "|          151|            87|   151|\n",
            "|          269|           462|   269|\n",
            "|          763|           448|   448|\n",
            "|          143|           263|   263|\n",
            "|          365|           240|   240|\n",
            "|          499|           774|   499|\n",
            "|          563|           578|   563|\n",
            "+-------------+--------------+------+\n",
            "only showing top 20 rows\n",
            "\n"
          ]
        }
      ]
    },
    {
      "cell_type": "code",
      "source": [
        "print(type(pokemon))\n",
        "display(pokemon.head(5))"
      ],
      "metadata": {
        "colab": {
          "base_uri": "https://localhost:8080/",
          "height": 141
        },
        "id": "YdCEA1cL-Feo",
        "outputId": "853ba4f8-4d53-4fd1-8473-c0ae69061f90"
      },
      "execution_count": 56,
      "outputs": [
        {
          "output_type": "stream",
          "name": "stdout",
          "text": [
            "<class 'pyspark.sql.dataframe.DataFrame'>\n"
          ]
        },
        {
          "output_type": "display_data",
          "data": {
            "text/plain": [
              "[Row(#='1', Name='Bulbasaur', Type 1='Grass', Type 2='Poison', HP='45', Attack='49', Defense='49', Sp. Atk='65', Sp. Def='65', Speed='45', Generation='1', Legendary='FALSE'),\n",
              " Row(#='2', Name='Ivysaur', Type 1='Grass', Type 2='Poison', HP='60', Attack='62', Defense='63', Sp. Atk='80', Sp. Def='80', Speed='60', Generation='1', Legendary='FALSE'),\n",
              " Row(#='3', Name='Venusaur', Type 1='Grass', Type 2='Poison', HP='80', Attack='82', Defense='83', Sp. Atk='100', Sp. Def='100', Speed='80', Generation='1', Legendary='FALSE'),\n",
              " Row(#='4', Name='Mega Venusaur', Type 1='Grass', Type 2='Poison', HP='80', Attack='100', Defense='123', Sp. Atk='122', Sp. Def='120', Speed='80', Generation='1', Legendary='FALSE'),\n",
              " Row(#='5', Name='Charmander', Type 1='Fire', Type 2=None, HP='39', Attack='52', Defense='43', Sp. Atk='60', Sp. Def='50', Speed='65', Generation='1', Legendary='FALSE')]"
            ]
          },
          "metadata": {}
        }
      ]
    },
    {
      "cell_type": "code",
      "source": [
        "pokemon.printSchema()\n",
        "combat.printSchema()"
      ],
      "metadata": {
        "colab": {
          "base_uri": "https://localhost:8080/"
        },
        "id": "XNXhfssW-Vy7",
        "outputId": "03f59180-301f-4a21-bb2c-c140396badfc"
      },
      "execution_count": 57,
      "outputs": [
        {
          "output_type": "stream",
          "name": "stdout",
          "text": [
            "root\n",
            " |-- #: string (nullable = true)\n",
            " |-- Name: string (nullable = true)\n",
            " |-- Type 1: string (nullable = true)\n",
            " |-- Type 2: string (nullable = true)\n",
            " |-- HP: string (nullable = true)\n",
            " |-- Attack: string (nullable = true)\n",
            " |-- Defense: string (nullable = true)\n",
            " |-- Sp. Atk: string (nullable = true)\n",
            " |-- Sp. Def: string (nullable = true)\n",
            " |-- Speed: string (nullable = true)\n",
            " |-- Generation: string (nullable = true)\n",
            " |-- Legendary: string (nullable = true)\n",
            "\n",
            "root\n",
            " |-- First_pokemon: string (nullable = true)\n",
            " |-- Second_pokemon: string (nullable = true)\n",
            " |-- Winner: string (nullable = true)\n",
            "\n"
          ]
        }
      ]
    },
    {
      "cell_type": "code",
      "source": [
        "print(pokemon.dtypes)\n",
        "print(combat.dtypes)"
      ],
      "metadata": {
        "colab": {
          "base_uri": "https://localhost:8080/"
        },
        "id": "udsyUsL3_jep",
        "outputId": "dd13db6b-b917-4bbd-fa68-3c98210abfc7"
      },
      "execution_count": 58,
      "outputs": [
        {
          "output_type": "stream",
          "name": "stdout",
          "text": [
            "[('#', 'string'), ('Name', 'string'), ('Type 1', 'string'), ('Type 2', 'string'), ('HP', 'string'), ('Attack', 'string'), ('Defense', 'string'), ('Sp. Atk', 'string'), ('Sp. Def', 'string'), ('Speed', 'string'), ('Generation', 'string'), ('Legendary', 'string')]\n",
            "[('First_pokemon', 'string'), ('Second_pokemon', 'string'), ('Winner', 'string')]\n"
          ]
        }
      ]
    },
    {
      "cell_type": "code",
      "source": [
        "pokemon.describe().show()\n",
        "combat.describe().show()"
      ],
      "metadata": {
        "colab": {
          "base_uri": "https://localhost:8080/"
        },
        "id": "8lyXMfqL_osX",
        "outputId": "3fea1bca-93eb-4e41-ee76-3d5b708184ed"
      },
      "execution_count": 59,
      "outputs": [
        {
          "output_type": "stream",
          "name": "stdout",
          "text": [
            "+-------+------------------+------------------+------+------+------------------+-----------------+------------------+----------------+-----------------+------------------+------------------+---------+\n",
            "|summary|                 #|              Name|Type 1|Type 2|                HP|           Attack|           Defense|         Sp. Atk|          Sp. Def|             Speed|        Generation|Legendary|\n",
            "+-------+------------------+------------------+------+------+------------------+-----------------+------------------+----------------+-----------------+------------------+------------------+---------+\n",
            "|  count|               800|               799|   800|   414|               800|              800|               800|             800|              800|               800|               800|      800|\n",
            "|   mean|             400.5|              null|  null|  null|          69.25875|         79.00125|           73.8425|           72.82|          71.9025|           68.2775|           3.32375|     null|\n",
            "| stddev|231.08440016582685|              null|  null|  null|25.534669032332076|32.45736586949845|31.183500559332924|32.7222941688016|27.82891579711746|29.060473717161447|1.6612904004849451|     null|\n",
            "|    min|                 1|         Abomasnow|   Bug|   Bug|                 1|               10|                10|              10|              100|                10|                 1|    FALSE|\n",
            "|    max|                99|Zygarde Half Forme| Water| Water|                99|               98|                99|              99|               99|                99|                 6|     TRUE|\n",
            "+-------+------------------+------------------+------+------+------------------+-----------------+------------------+----------------+-----------------+------------------+------------------+---------+\n",
            "\n",
            "+-------+-----------------+------------------+-----------------+\n",
            "|summary|    First_pokemon|    Second_pokemon|           Winner|\n",
            "+-------+-----------------+------------------+-----------------+\n",
            "|  count|            50000|             50000|            50000|\n",
            "|   mean|        400.49564|         403.15966|         408.8901|\n",
            "| stddev|229.5494293606519|230.08364413480214|231.1599613266632|\n",
            "|    min|                1|                 1|                1|\n",
            "|    max|               99|                99|               99|\n",
            "+-------+-----------------+------------------+-----------------+\n",
            "\n"
          ]
        }
      ]
    },
    {
      "cell_type": "code",
      "source": [
        "print(pokemon.columns)\n",
        "print(combat.columns)"
      ],
      "metadata": {
        "colab": {
          "base_uri": "https://localhost:8080/"
        },
        "id": "JgAP0OmyDFcr",
        "outputId": "8c1b967b-e52c-4df4-be30-b69ac04da9ef"
      },
      "execution_count": 60,
      "outputs": [
        {
          "output_type": "stream",
          "name": "stdout",
          "text": [
            "['#', 'Name', 'Type 1', 'Type 2', 'HP', 'Attack', 'Defense', 'Sp. Atk', 'Sp. Def', 'Speed', 'Generation', 'Legendary']\n",
            "['First_pokemon', 'Second_pokemon', 'Winner']\n"
          ]
        }
      ]
    },
    {
      "cell_type": "code",
      "source": [
        "pokemon = pokemon.withColumnRenamed(\"#\",\"Pokedex\")\n",
        "pokemon = pokemon.withColumnRenamed(\"Sp. Atk\",\"Sp_Atk\")\n",
        "pokemon = pokemon.withColumnRenamed(\"Sp. Def\",\"Sp_Def\")\n",
        "pokemon.show()"
      ],
      "metadata": {
        "colab": {
          "base_uri": "https://localhost:8080/"
        },
        "id": "Om_OqurkDCZJ",
        "outputId": "d29dc103-ddb0-4760-b9ca-72eadb1ee257"
      },
      "execution_count": 61,
      "outputs": [
        {
          "output_type": "stream",
          "name": "stdout",
          "text": [
            "+-------+----------------+------+------+---+------+-------+------+------+-----+----------+---------+\n",
            "|Pokedex|            Name|Type 1|Type 2| HP|Attack|Defense|Sp_Atk|Sp_Def|Speed|Generation|Legendary|\n",
            "+-------+----------------+------+------+---+------+-------+------+------+-----+----------+---------+\n",
            "|      1|       Bulbasaur| Grass|Poison| 45|    49|     49|    65|    65|   45|         1|    FALSE|\n",
            "|      2|         Ivysaur| Grass|Poison| 60|    62|     63|    80|    80|   60|         1|    FALSE|\n",
            "|      3|        Venusaur| Grass|Poison| 80|    82|     83|   100|   100|   80|         1|    FALSE|\n",
            "|      4|   Mega Venusaur| Grass|Poison| 80|   100|    123|   122|   120|   80|         1|    FALSE|\n",
            "|      5|      Charmander|  Fire|  null| 39|    52|     43|    60|    50|   65|         1|    FALSE|\n",
            "|      6|      Charmeleon|  Fire|  null| 58|    64|     58|    80|    65|   80|         1|    FALSE|\n",
            "|      7|       Charizard|  Fire|Flying| 78|    84|     78|   109|    85|  100|         1|    FALSE|\n",
            "|      8|Mega Charizard X|  Fire|Dragon| 78|   130|    111|   130|    85|  100|         1|    FALSE|\n",
            "|      9|Mega Charizard Y|  Fire|Flying| 78|   104|     78|   159|   115|  100|         1|    FALSE|\n",
            "|     10|        Squirtle| Water|  null| 44|    48|     65|    50|    64|   43|         1|    FALSE|\n",
            "|     11|       Wartortle| Water|  null| 59|    63|     80|    65|    80|   58|         1|    FALSE|\n",
            "|     12|       Blastoise| Water|  null| 79|    83|    100|    85|   105|   78|         1|    FALSE|\n",
            "|     13|  Mega Blastoise| Water|  null| 79|   103|    120|   135|   115|   78|         1|    FALSE|\n",
            "|     14|        Caterpie|   Bug|  null| 45|    30|     35|    20|    20|   45|         1|    FALSE|\n",
            "|     15|         Metapod|   Bug|  null| 50|    20|     55|    25|    25|   30|         1|    FALSE|\n",
            "|     16|      Butterfree|   Bug|Flying| 60|    45|     50|    90|    80|   70|         1|    FALSE|\n",
            "|     17|          Weedle|   Bug|Poison| 40|    35|     30|    20|    20|   50|         1|    FALSE|\n",
            "|     18|          Kakuna|   Bug|Poison| 45|    25|     50|    25|    25|   35|         1|    FALSE|\n",
            "|     19|        Beedrill|   Bug|Poison| 65|    90|     40|    45|    80|   75|         1|    FALSE|\n",
            "|     20|   Mega Beedrill|   Bug|Poison| 65|   150|     40|    15|    80|  145|         1|    FALSE|\n",
            "+-------+----------------+------+------+---+------+-------+------+------+-----+----------+---------+\n",
            "only showing top 20 rows\n",
            "\n"
          ]
        }
      ]
    },
    {
      "cell_type": "code",
      "source": [
        "NullDict = {col:pokemon.filter(pokemon[col].isNull()).count() for col in pokemon.columns}\n",
        "NullDict"
      ],
      "metadata": {
        "colab": {
          "base_uri": "https://localhost:8080/"
        },
        "id": "EqDClOSWB2BA",
        "outputId": "aec4dd98-76c8-4009-9269-b2d0862ba6d6"
      },
      "execution_count": 62,
      "outputs": [
        {
          "output_type": "execute_result",
          "data": {
            "text/plain": [
              "{'Attack': 0,\n",
              " 'Defense': 0,\n",
              " 'Generation': 0,\n",
              " 'HP': 0,\n",
              " 'Legendary': 0,\n",
              " 'Name': 1,\n",
              " 'Pokedex': 0,\n",
              " 'Sp_Atk': 0,\n",
              " 'Sp_Def': 0,\n",
              " 'Speed': 0,\n",
              " 'Type 1': 0,\n",
              " 'Type 2': 386}"
            ]
          },
          "metadata": {},
          "execution_count": 62
        }
      ]
    },
    {
      "cell_type": "code",
      "source": [
        "from pyspark.sql.functions import col\n",
        "pokemon.filter(\"Name IS NULL\").show()\n",
        "pokemon.filter(pokemon.Name.isNull()).show()\n",
        "pokemon.filter(col(\"Name\").isNull()).show()\n",
        "\n",
        "pokemon.createOrReplaceTempView(\"DATA\")\n",
        "spark.sql(\"SELECT * FROM DATA where Name IS NULL\").show()"
      ],
      "metadata": {
        "colab": {
          "base_uri": "https://localhost:8080/"
        },
        "id": "MDkvXTT5Hs6o",
        "outputId": "c0bc6a4c-9d13-4004-92ac-ba34d21a0027"
      },
      "execution_count": 63,
      "outputs": [
        {
          "output_type": "stream",
          "name": "stdout",
          "text": [
            "+-------+----+--------+------+---+------+-------+------+------+-----+----------+---------+\n",
            "|Pokedex|Name|  Type 1|Type 2| HP|Attack|Defense|Sp_Atk|Sp_Def|Speed|Generation|Legendary|\n",
            "+-------+----+--------+------+---+------+-------+------+------+-----+----------+---------+\n",
            "|     63|null|Fighting|  null| 65|   105|     60|    60|    70|   95|         1|    FALSE|\n",
            "+-------+----+--------+------+---+------+-------+------+------+-----+----------+---------+\n",
            "\n",
            "+-------+----+--------+------+---+------+-------+------+------+-----+----------+---------+\n",
            "|Pokedex|Name|  Type 1|Type 2| HP|Attack|Defense|Sp_Atk|Sp_Def|Speed|Generation|Legendary|\n",
            "+-------+----+--------+------+---+------+-------+------+------+-----+----------+---------+\n",
            "|     63|null|Fighting|  null| 65|   105|     60|    60|    70|   95|         1|    FALSE|\n",
            "+-------+----+--------+------+---+------+-------+------+------+-----+----------+---------+\n",
            "\n",
            "+-------+----+--------+------+---+------+-------+------+------+-----+----------+---------+\n",
            "|Pokedex|Name|  Type 1|Type 2| HP|Attack|Defense|Sp_Atk|Sp_Def|Speed|Generation|Legendary|\n",
            "+-------+----+--------+------+---+------+-------+------+------+-----+----------+---------+\n",
            "|     63|null|Fighting|  null| 65|   105|     60|    60|    70|   95|         1|    FALSE|\n",
            "+-------+----+--------+------+---+------+-------+------+------+-----+----------+---------+\n",
            "\n",
            "+-------+----+--------+------+---+------+-------+------+------+-----+----------+---------+\n",
            "|Pokedex|Name|  Type 1|Type 2| HP|Attack|Defense|Sp_Atk|Sp_Def|Speed|Generation|Legendary|\n",
            "+-------+----+--------+------+---+------+-------+------+------+-----+----------+---------+\n",
            "|     63|null|Fighting|  null| 65|   105|     60|    60|    70|   95|         1|    FALSE|\n",
            "+-------+----+--------+------+---+------+-------+------+------+-----+----------+---------+\n",
            "\n"
          ]
        }
      ]
    },
    {
      "cell_type": "code",
      "source": [
        "pokemon.createOrReplaceTempView(\"Pokemon\")\n",
        "combat.createOrReplaceTempView(\"Combat\")\n",
        "\n",
        "spark.sql(\"SELECT * FROM Pokemon WHERE `Type 1` = 'Grass'\").show()\n",
        "spark.sql(\"SELECT * FROM Pokemon WHERE `Type 1` = 'Grass' AND `Type 2` = 'Poison'\").show()"
      ],
      "metadata": {
        "colab": {
          "base_uri": "https://localhost:8080/"
        },
        "id": "Gw3HfVXANf8I",
        "outputId": "94df1da5-4b38-4cb2-fa4f-2c6bd73a6cb3"
      },
      "execution_count": 64,
      "outputs": [
        {
          "output_type": "stream",
          "name": "stdout",
          "text": [
            "+-------+-------------+------+-------+---+------+-------+------+------+-----+----------+---------+\n",
            "|Pokedex|         Name|Type 1| Type 2| HP|Attack|Defense|Sp_Atk|Sp_Def|Speed|Generation|Legendary|\n",
            "+-------+-------------+------+-------+---+------+-------+------+------+-----+----------+---------+\n",
            "|      1|    Bulbasaur| Grass| Poison| 45|    49|     49|    65|    65|   45|         1|    FALSE|\n",
            "|      2|      Ivysaur| Grass| Poison| 60|    62|     63|    80|    80|   60|         1|    FALSE|\n",
            "|      3|     Venusaur| Grass| Poison| 80|    82|     83|   100|   100|   80|         1|    FALSE|\n",
            "|      4|Mega Venusaur| Grass| Poison| 80|   100|    123|   122|   120|   80|         1|    FALSE|\n",
            "|     49|       Oddish| Grass| Poison| 45|    50|     55|    75|    65|   30|         1|    FALSE|\n",
            "|     50|        Gloom| Grass| Poison| 60|    65|     70|    85|    75|   40|         1|    FALSE|\n",
            "|     51|    Vileplume| Grass| Poison| 75|    80|     85|   110|    90|   50|         1|    FALSE|\n",
            "|     76|   Bellsprout| Grass| Poison| 50|    75|     35|    70|    30|   40|         1|    FALSE|\n",
            "|     77|   Weepinbell| Grass| Poison| 65|    90|     50|    85|    45|   55|         1|    FALSE|\n",
            "|     78|   Victreebel| Grass| Poison| 80|   105|     65|   100|    70|   70|         1|    FALSE|\n",
            "|    111|    Exeggcute| Grass|Psychic| 60|    40|     80|    60|    45|   40|         1|    FALSE|\n",
            "|    112|    Exeggutor| Grass|Psychic| 95|    95|     85|   125|    65|   55|         1|    FALSE|\n",
            "|    123|      Tangela| Grass|   null| 65|    55|    115|   100|    40|   60|         1|    FALSE|\n",
            "|    167|    Chikorita| Grass|   null| 45|    49|     65|    49|    65|   45|         2|    FALSE|\n",
            "|    168|      Bayleef| Grass|   null| 60|    62|     80|    63|    80|   60|         2|    FALSE|\n",
            "|    169|     Meganium| Grass|   null| 80|    82|    100|    83|   100|   80|         2|    FALSE|\n",
            "|    198|    Bellossom| Grass|   null| 75|    80|     95|    90|   100|   50|         2|    FALSE|\n",
            "|    203|       Hoppip| Grass| Flying| 35|    35|     40|    35|    55|   50|         2|    FALSE|\n",
            "|    204|     Skiploom| Grass| Flying| 55|    45|     50|    45|    65|   80|         2|    FALSE|\n",
            "|    205|     Jumpluff| Grass| Flying| 75|    55|     70|    55|    95|  110|         2|    FALSE|\n",
            "+-------+-------------+------+-------+---+------+-------+------+------+-----+----------+---------+\n",
            "only showing top 20 rows\n",
            "\n",
            "+-------+-------------+------+------+---+------+-------+------+------+-----+----------+---------+\n",
            "|Pokedex|         Name|Type 1|Type 2| HP|Attack|Defense|Sp_Atk|Sp_Def|Speed|Generation|Legendary|\n",
            "+-------+-------------+------+------+---+------+-------+------+------+-----+----------+---------+\n",
            "|      1|    Bulbasaur| Grass|Poison| 45|    49|     49|    65|    65|   45|         1|    FALSE|\n",
            "|      2|      Ivysaur| Grass|Poison| 60|    62|     63|    80|    80|   60|         1|    FALSE|\n",
            "|      3|     Venusaur| Grass|Poison| 80|    82|     83|   100|   100|   80|         1|    FALSE|\n",
            "|      4|Mega Venusaur| Grass|Poison| 80|   100|    123|   122|   120|   80|         1|    FALSE|\n",
            "|     49|       Oddish| Grass|Poison| 45|    50|     55|    75|    65|   30|         1|    FALSE|\n",
            "|     50|        Gloom| Grass|Poison| 60|    65|     70|    85|    75|   40|         1|    FALSE|\n",
            "|     51|    Vileplume| Grass|Poison| 75|    80|     85|   110|    90|   50|         1|    FALSE|\n",
            "|     76|   Bellsprout| Grass|Poison| 50|    75|     35|    70|    30|   40|         1|    FALSE|\n",
            "|     77|   Weepinbell| Grass|Poison| 65|    90|     50|    85|    45|   55|         1|    FALSE|\n",
            "|     78|   Victreebel| Grass|Poison| 80|   105|     65|   100|    70|   70|         1|    FALSE|\n",
            "|    345|      Roselia| Grass|Poison| 50|    60|     45|   100|    80|   65|         3|    FALSE|\n",
            "|    452|        Budew| Grass|Poison| 40|    30|     35|    50|    70|   55|         4|    FALSE|\n",
            "|    453|     Roserade| Grass|Poison| 60|    70|     65|   125|   105|   90|         4|    FALSE|\n",
            "|    652|      Foongus| Grass|Poison| 69|    55|     45|    55|    55|   15|         5|    FALSE|\n",
            "|    653|    Amoonguss| Grass|Poison|114|    85|     70|    85|    80|   30|         5|    FALSE|\n",
            "+-------+-------------+------+------+---+------+-------+------+------+-----+----------+---------+\n",
            "\n"
          ]
        }
      ]
    },
    {
      "cell_type": "code",
      "source": [
        "pokemon.filter((col(\"Type 1\") == 'Grass') & (col(\"Type 2\") == 'Poison')).show()\n",
        "pokemon.filter(\"`Type 1` = 'Grass' AND `Type 2` = 'Poison'\").show()"
      ],
      "metadata": {
        "colab": {
          "base_uri": "https://localhost:8080/"
        },
        "id": "GVvcSoemueH3",
        "outputId": "967e9de7-290e-4fc3-89de-0c348b3f258e"
      },
      "execution_count": 65,
      "outputs": [
        {
          "output_type": "stream",
          "name": "stdout",
          "text": [
            "+-------+-------------+------+------+---+------+-------+------+------+-----+----------+---------+\n",
            "|Pokedex|         Name|Type 1|Type 2| HP|Attack|Defense|Sp_Atk|Sp_Def|Speed|Generation|Legendary|\n",
            "+-------+-------------+------+------+---+------+-------+------+------+-----+----------+---------+\n",
            "|      1|    Bulbasaur| Grass|Poison| 45|    49|     49|    65|    65|   45|         1|    FALSE|\n",
            "|      2|      Ivysaur| Grass|Poison| 60|    62|     63|    80|    80|   60|         1|    FALSE|\n",
            "|      3|     Venusaur| Grass|Poison| 80|    82|     83|   100|   100|   80|         1|    FALSE|\n",
            "|      4|Mega Venusaur| Grass|Poison| 80|   100|    123|   122|   120|   80|         1|    FALSE|\n",
            "|     49|       Oddish| Grass|Poison| 45|    50|     55|    75|    65|   30|         1|    FALSE|\n",
            "|     50|        Gloom| Grass|Poison| 60|    65|     70|    85|    75|   40|         1|    FALSE|\n",
            "|     51|    Vileplume| Grass|Poison| 75|    80|     85|   110|    90|   50|         1|    FALSE|\n",
            "|     76|   Bellsprout| Grass|Poison| 50|    75|     35|    70|    30|   40|         1|    FALSE|\n",
            "|     77|   Weepinbell| Grass|Poison| 65|    90|     50|    85|    45|   55|         1|    FALSE|\n",
            "|     78|   Victreebel| Grass|Poison| 80|   105|     65|   100|    70|   70|         1|    FALSE|\n",
            "|    345|      Roselia| Grass|Poison| 50|    60|     45|   100|    80|   65|         3|    FALSE|\n",
            "|    452|        Budew| Grass|Poison| 40|    30|     35|    50|    70|   55|         4|    FALSE|\n",
            "|    453|     Roserade| Grass|Poison| 60|    70|     65|   125|   105|   90|         4|    FALSE|\n",
            "|    652|      Foongus| Grass|Poison| 69|    55|     45|    55|    55|   15|         5|    FALSE|\n",
            "|    653|    Amoonguss| Grass|Poison|114|    85|     70|    85|    80|   30|         5|    FALSE|\n",
            "+-------+-------------+------+------+---+------+-------+------+------+-----+----------+---------+\n",
            "\n",
            "+-------+-------------+------+------+---+------+-------+------+------+-----+----------+---------+\n",
            "|Pokedex|         Name|Type 1|Type 2| HP|Attack|Defense|Sp_Atk|Sp_Def|Speed|Generation|Legendary|\n",
            "+-------+-------------+------+------+---+------+-------+------+------+-----+----------+---------+\n",
            "|      1|    Bulbasaur| Grass|Poison| 45|    49|     49|    65|    65|   45|         1|    FALSE|\n",
            "|      2|      Ivysaur| Grass|Poison| 60|    62|     63|    80|    80|   60|         1|    FALSE|\n",
            "|      3|     Venusaur| Grass|Poison| 80|    82|     83|   100|   100|   80|         1|    FALSE|\n",
            "|      4|Mega Venusaur| Grass|Poison| 80|   100|    123|   122|   120|   80|         1|    FALSE|\n",
            "|     49|       Oddish| Grass|Poison| 45|    50|     55|    75|    65|   30|         1|    FALSE|\n",
            "|     50|        Gloom| Grass|Poison| 60|    65|     70|    85|    75|   40|         1|    FALSE|\n",
            "|     51|    Vileplume| Grass|Poison| 75|    80|     85|   110|    90|   50|         1|    FALSE|\n",
            "|     76|   Bellsprout| Grass|Poison| 50|    75|     35|    70|    30|   40|         1|    FALSE|\n",
            "|     77|   Weepinbell| Grass|Poison| 65|    90|     50|    85|    45|   55|         1|    FALSE|\n",
            "|     78|   Victreebel| Grass|Poison| 80|   105|     65|   100|    70|   70|         1|    FALSE|\n",
            "|    345|      Roselia| Grass|Poison| 50|    60|     45|   100|    80|   65|         3|    FALSE|\n",
            "|    452|        Budew| Grass|Poison| 40|    30|     35|    50|    70|   55|         4|    FALSE|\n",
            "|    453|     Roserade| Grass|Poison| 60|    70|     65|   125|   105|   90|         4|    FALSE|\n",
            "|    652|      Foongus| Grass|Poison| 69|    55|     45|    55|    55|   15|         5|    FALSE|\n",
            "|    653|    Amoonguss| Grass|Poison|114|    85|     70|    85|    80|   30|         5|    FALSE|\n",
            "+-------+-------------+------+------+---+------+-------+------+------+-----+----------+---------+\n",
            "\n"
          ]
        }
      ]
    },
    {
      "cell_type": "code",
      "source": [
        "from pyspark.sql.functions import when\n",
        "from pyspark.sql.functions import regexp_replace\n",
        "\n",
        "pokemon = pokemon.withColumn(\n",
        "                                \"Name\",\n",
        "                                when(\n",
        "                                    col(\"Pokedex\") == 63,\n",
        "                                    \"Primeape\"\n",
        "                                ).otherwise(col(\"Name\"))\n",
        "                            )"
      ],
      "metadata": {
        "id": "MN-Ofp4sJWUe"
      },
      "execution_count": 66,
      "outputs": []
    },
    {
      "cell_type": "code",
      "source": [
        "pokemon.filter(\"Name IS NULL\").show()"
      ],
      "metadata": {
        "colab": {
          "base_uri": "https://localhost:8080/"
        },
        "id": "t2MbTyswQmMM",
        "outputId": "1fe93f75-4369-415f-87b4-7550e373fe56"
      },
      "execution_count": 67,
      "outputs": [
        {
          "output_type": "stream",
          "name": "stdout",
          "text": [
            "+-------+----+------+------+---+------+-------+------+------+-----+----------+---------+\n",
            "|Pokedex|Name|Type 1|Type 2| HP|Attack|Defense|Sp_Atk|Sp_Def|Speed|Generation|Legendary|\n",
            "+-------+----+------+------+---+------+-------+------+------+-----+----------+---------+\n",
            "+-------+----+------+------+---+------+-------+------+------+-----+----------+---------+\n",
            "\n"
          ]
        }
      ]
    },
    {
      "cell_type": "code",
      "source": [
        "#Create Schema\n",
        "from pyspark.sql.types import StructType,StructField, StringType, FloatType, IntegerType\n",
        "emptyRDD = spark.sparkContext.emptyRDD()\n",
        "schema = StructType([\n",
        "  StructField('Pokedex', IntegerType(), True),\n",
        "  StructField('Total_Fights', IntegerType(), True),\n",
        "  StructField('Total_Wins', IntegerType(), True),\n",
        "  StructField('Win_Percent', FloatType(), True)\n",
        "  ])\n",
        "\n",
        "WinStatsDF = spark.createDataFrame(emptyRDD,schema)\n",
        "WinStatsDF.printSchema()"
      ],
      "metadata": {
        "colab": {
          "base_uri": "https://localhost:8080/"
        },
        "id": "CeVtF6lMRo3i",
        "outputId": "7db0d706-d0a0-4f1c-c1fd-418d09576c93"
      },
      "execution_count": 68,
      "outputs": [
        {
          "output_type": "stream",
          "name": "stdout",
          "text": [
            "root\n",
            " |-- Pokedex: integer (nullable = true)\n",
            " |-- Total_Fights: integer (nullable = true)\n",
            " |-- Total_Wins: integer (nullable = true)\n",
            " |-- Win_Percent: float (nullable = true)\n",
            "\n"
          ]
        }
      ]
    },
    {
      "cell_type": "code",
      "source": [
        "combat.show()"
      ],
      "metadata": {
        "colab": {
          "base_uri": "https://localhost:8080/"
        },
        "id": "eRte32rIT8Ry",
        "outputId": "e1277579-4711-4021-af18-065839fe90ce"
      },
      "execution_count": 69,
      "outputs": [
        {
          "output_type": "stream",
          "name": "stdout",
          "text": [
            "+-------------+--------------+------+\n",
            "|First_pokemon|Second_pokemon|Winner|\n",
            "+-------------+--------------+------+\n",
            "|          266|           298|   298|\n",
            "|          702|           701|   701|\n",
            "|          191|           668|   668|\n",
            "|          237|           683|   683|\n",
            "|          151|           231|   151|\n",
            "|          657|           752|   657|\n",
            "|          192|           134|   134|\n",
            "|           73|           545|   545|\n",
            "|          220|           763|   763|\n",
            "|          302|            31|    31|\n",
            "|          442|           130|   130|\n",
            "|          701|           624|   701|\n",
            "|           15|           283|   283|\n",
            "|          151|            87|   151|\n",
            "|          269|           462|   269|\n",
            "|          763|           448|   448|\n",
            "|          143|           263|   263|\n",
            "|          365|           240|   240|\n",
            "|          499|           774|   499|\n",
            "|          563|           578|   563|\n",
            "+-------------+--------------+------+\n",
            "only showing top 20 rows\n",
            "\n"
          ]
        }
      ]
    },
    {
      "cell_type": "code",
      "source": [
        "combat.orderBy(['First_pokemon'], ascending = [True]).show()"
      ],
      "metadata": {
        "colab": {
          "base_uri": "https://localhost:8080/"
        },
        "id": "jjJ0hBWeV5od",
        "outputId": "c6ed0d56-7b7a-48d7-edee-31de8afcfcdf"
      },
      "execution_count": 70,
      "outputs": [
        {
          "output_type": "stream",
          "name": "stdout",
          "text": [
            "+-------------+--------------+------+\n",
            "|First_pokemon|Second_pokemon|Winner|\n",
            "+-------------+--------------+------+\n",
            "|            1|           717|   717|\n",
            "|            1|           372|   372|\n",
            "|            1|            54|    54|\n",
            "|            1|           324|     1|\n",
            "|            1|           766|   766|\n",
            "|            1|           385|     1|\n",
            "|            1|           557|   557|\n",
            "|            1|           493|   493|\n",
            "|            1|           153|   153|\n",
            "|            1|           115|   115|\n",
            "|            1|           604|   604|\n",
            "|            1|           351|   351|\n",
            "|            1|           579|     1|\n",
            "|            1|           779|     1|\n",
            "|            1|           194|     1|\n",
            "|            1|           488|   488|\n",
            "|            1|           679|   679|\n",
            "|            1|           503|   503|\n",
            "|            1|           285|     1|\n",
            "|            1|           483|   483|\n",
            "+-------------+--------------+------+\n",
            "only showing top 20 rows\n",
            "\n"
          ]
        }
      ]
    },
    {
      "cell_type": "code",
      "source": [
        "combat_first = combat.groupBy('First_pokemon').count()"
      ],
      "metadata": {
        "id": "XP2MNMKAWzuK"
      },
      "execution_count": 71,
      "outputs": []
    },
    {
      "cell_type": "code",
      "source": [
        "combat_first.createOrReplaceTempView(\"DATA\")\n",
        "combat_first = spark.sql(\"SELECT * FROM DATA ORDER BY CAST(First_pokemon AS INT) ASC\")\n",
        "combat_first.show()"
      ],
      "metadata": {
        "colab": {
          "base_uri": "https://localhost:8080/"
        },
        "id": "yxEvbt6_Ww9r",
        "outputId": "72063999-829b-41c4-85d9-65d831493b06"
      },
      "execution_count": 72,
      "outputs": [
        {
          "output_type": "stream",
          "name": "stdout",
          "text": [
            "+-------------+-----+\n",
            "|First_pokemon|count|\n",
            "+-------------+-----+\n",
            "|            1|   70|\n",
            "|            2|   55|\n",
            "|            3|   68|\n",
            "|            4|   62|\n",
            "|            5|   50|\n",
            "|            6|   66|\n",
            "|            7|   60|\n",
            "|            8|   65|\n",
            "|            9|   66|\n",
            "|           10|   58|\n",
            "|           11|   79|\n",
            "|           13|   64|\n",
            "|           14|   54|\n",
            "|           15|   69|\n",
            "|           16|   61|\n",
            "|           17|   65|\n",
            "|           18|   63|\n",
            "|           19|   73|\n",
            "|           20|   72|\n",
            "|           21|   63|\n",
            "+-------------+-----+\n",
            "only showing top 20 rows\n",
            "\n"
          ]
        }
      ]
    },
    {
      "cell_type": "code",
      "source": [
        "combat_second = combat.groupBy('Second_pokemon').count()"
      ],
      "metadata": {
        "id": "0sVJvPnWYHGH"
      },
      "execution_count": 73,
      "outputs": []
    },
    {
      "cell_type": "code",
      "source": [
        "combat_second.createOrReplaceTempView(\"DATA\")\n",
        "combat_second = spark.sql(\"SELECT * FROM DATA ORDER BY CAST(Second_pokemon AS INT) ASC\")\n",
        "combat_second.show()"
      ],
      "metadata": {
        "colab": {
          "base_uri": "https://localhost:8080/"
        },
        "id": "AdWaX4zNYOYJ",
        "outputId": "fc86d5ab-1b1d-422a-9a47-de4cee995b7b"
      },
      "execution_count": 74,
      "outputs": [
        {
          "output_type": "stream",
          "name": "stdout",
          "text": [
            "+--------------+-----+\n",
            "|Second_pokemon|count|\n",
            "+--------------+-----+\n",
            "|             1|   63|\n",
            "|             2|   66|\n",
            "|             3|   64|\n",
            "|             4|   63|\n",
            "|             5|   62|\n",
            "|             6|   52|\n",
            "|             7|   73|\n",
            "|             8|   74|\n",
            "|             9|   69|\n",
            "|            10|   59|\n",
            "|            11|   62|\n",
            "|            13|   80|\n",
            "|            14|   61|\n",
            "|            15|   64|\n",
            "|            16|   59|\n",
            "|            17|   46|\n",
            "|            18|   67|\n",
            "|            19|   55|\n",
            "|            20|   47|\n",
            "|            21|   63|\n",
            "+--------------+-----+\n",
            "only showing top 20 rows\n",
            "\n"
          ]
        }
      ]
    },
    {
      "cell_type": "code",
      "source": [
        "combat_winner = combat.groupBy('Winner').count()"
      ],
      "metadata": {
        "id": "tvt08IeGbzBS"
      },
      "execution_count": 75,
      "outputs": []
    },
    {
      "cell_type": "code",
      "source": [
        "combat_winner.createOrReplaceTempView(\"DATA\")\n",
        "combat_winner = spark.sql(\"SELECT * FROM DATA ORDER BY CAST(Winner AS INT) ASC\")\n",
        "combat_winner.show()"
      ],
      "metadata": {
        "colab": {
          "base_uri": "https://localhost:8080/"
        },
        "id": "xIF4iKOKcBmc",
        "outputId": "9368ca55-a45b-4ac6-932e-57c0e90162ca"
      },
      "execution_count": 76,
      "outputs": [
        {
          "output_type": "stream",
          "name": "stdout",
          "text": [
            "+------+-----+\n",
            "|Winner|count|\n",
            "+------+-----+\n",
            "|     1|   37|\n",
            "|     2|   46|\n",
            "|     3|   89|\n",
            "|     4|   70|\n",
            "|     5|   55|\n",
            "|     6|   64|\n",
            "|     7|  115|\n",
            "|     8|  119|\n",
            "|     9|  114|\n",
            "|    10|   19|\n",
            "|    11|   59|\n",
            "|    13|   83|\n",
            "|    14|   17|\n",
            "|    15|   13|\n",
            "|    16|   75|\n",
            "|    17|   26|\n",
            "|    18|   17|\n",
            "|    19|   80|\n",
            "|    20|  115|\n",
            "|    21|   47|\n",
            "+------+-----+\n",
            "only showing top 20 rows\n",
            "\n"
          ]
        }
      ]
    },
    {
      "cell_type": "code",
      "source": [
        "combat_first.createOrReplaceTempView(\"DATA1\")\n",
        "combat_second.createOrReplaceTempView(\"DATA2\")\n",
        "combat_winner.createOrReplaceTempView(\"DATA3\")\n",
        "\n",
        "combat_stats = spark.sql(\"SELECT F.First_pokemon AS Pokedex, F.count + S.count AS TotalFight, W.count AS TotalWin  \\\n",
        "                        FROM DATA1 F \\\n",
        "                        INNER JOIN DATA2 S ON F.First_pokemon = S.Second_pokemon \\\n",
        "                        LEFT JOIN DATA3 W ON W.Winner = F.First_pokemon \\\n",
        "                        ORDER BY CAST(Pokedex AS INT) ASC\")\n",
        "combat_stats.show()"
      ],
      "metadata": {
        "colab": {
          "base_uri": "https://localhost:8080/"
        },
        "id": "IxqFixJ3Ya4G",
        "outputId": "a0ec5b2f-841e-4a98-c6e5-4d36809d3dda"
      },
      "execution_count": 77,
      "outputs": [
        {
          "output_type": "stream",
          "name": "stdout",
          "text": [
            "+-------+----------+--------+\n",
            "|Pokedex|TotalFight|TotalWin|\n",
            "+-------+----------+--------+\n",
            "|      1|       133|      37|\n",
            "|      2|       121|      46|\n",
            "|      3|       132|      89|\n",
            "|      4|       125|      70|\n",
            "|      5|       112|      55|\n",
            "|      6|       118|      64|\n",
            "|      7|       133|     115|\n",
            "|      8|       139|     119|\n",
            "|      9|       135|     114|\n",
            "|     10|       117|      19|\n",
            "|     11|       141|      59|\n",
            "|     13|       144|      83|\n",
            "|     14|       115|      17|\n",
            "|     15|       133|      13|\n",
            "|     16|       120|      75|\n",
            "|     17|       111|      26|\n",
            "|     18|       130|      17|\n",
            "|     19|       128|      80|\n",
            "|     20|       119|     115|\n",
            "|     21|       126|      47|\n",
            "+-------+----------+--------+\n",
            "only showing top 20 rows\n",
            "\n"
          ]
        }
      ]
    },
    {
      "cell_type": "code",
      "source": [
        "combat_stats=combat_stats.withColumn(\"WinPercent\", col(\"TotalWin\") / col(\"TotalFight\"))\n",
        "combat_stats.show()"
      ],
      "metadata": {
        "colab": {
          "base_uri": "https://localhost:8080/"
        },
        "id": "ZabclWGVc9Oa",
        "outputId": "b04c8bcf-f200-4d4f-b230-1833092ba35d"
      },
      "execution_count": 78,
      "outputs": [
        {
          "output_type": "stream",
          "name": "stdout",
          "text": [
            "+-------+----------+--------+-------------------+\n",
            "|Pokedex|TotalFight|TotalWin|         WinPercent|\n",
            "+-------+----------+--------+-------------------+\n",
            "|      1|       133|      37| 0.2781954887218045|\n",
            "|      2|       121|      46|0.38016528925619836|\n",
            "|      3|       132|      89| 0.6742424242424242|\n",
            "|      4|       125|      70|               0.56|\n",
            "|      5|       112|      55|0.49107142857142855|\n",
            "|      6|       118|      64| 0.5423728813559322|\n",
            "|      7|       133|     115| 0.8646616541353384|\n",
            "|      8|       139|     119| 0.8561151079136691|\n",
            "|      9|       135|     114| 0.8444444444444444|\n",
            "|     10|       117|      19| 0.1623931623931624|\n",
            "|     11|       141|      59|0.41843971631205673|\n",
            "|     13|       144|      83| 0.5763888888888888|\n",
            "|     14|       115|      17|0.14782608695652175|\n",
            "|     15|       133|      13|0.09774436090225563|\n",
            "|     16|       120|      75|              0.625|\n",
            "|     17|       111|      26|0.23423423423423423|\n",
            "|     18|       130|      17|0.13076923076923078|\n",
            "|     19|       128|      80|              0.625|\n",
            "|     20|       119|     115| 0.9663865546218487|\n",
            "|     21|       126|      47|  0.373015873015873|\n",
            "+-------+----------+--------+-------------------+\n",
            "only showing top 20 rows\n",
            "\n"
          ]
        }
      ]
    },
    {
      "cell_type": "code",
      "source": [
        "pokemon.show()"
      ],
      "metadata": {
        "colab": {
          "base_uri": "https://localhost:8080/"
        },
        "id": "5RVX_eAbgVRq",
        "outputId": "df571889-6c3e-4ed0-ed15-4cd80d047b61"
      },
      "execution_count": 79,
      "outputs": [
        {
          "output_type": "stream",
          "name": "stdout",
          "text": [
            "+-------+----------------+------+------+---+------+-------+------+------+-----+----------+---------+\n",
            "|Pokedex|            Name|Type 1|Type 2| HP|Attack|Defense|Sp_Atk|Sp_Def|Speed|Generation|Legendary|\n",
            "+-------+----------------+------+------+---+------+-------+------+------+-----+----------+---------+\n",
            "|      1|       Bulbasaur| Grass|Poison| 45|    49|     49|    65|    65|   45|         1|    FALSE|\n",
            "|      2|         Ivysaur| Grass|Poison| 60|    62|     63|    80|    80|   60|         1|    FALSE|\n",
            "|      3|        Venusaur| Grass|Poison| 80|    82|     83|   100|   100|   80|         1|    FALSE|\n",
            "|      4|   Mega Venusaur| Grass|Poison| 80|   100|    123|   122|   120|   80|         1|    FALSE|\n",
            "|      5|      Charmander|  Fire|  null| 39|    52|     43|    60|    50|   65|         1|    FALSE|\n",
            "|      6|      Charmeleon|  Fire|  null| 58|    64|     58|    80|    65|   80|         1|    FALSE|\n",
            "|      7|       Charizard|  Fire|Flying| 78|    84|     78|   109|    85|  100|         1|    FALSE|\n",
            "|      8|Mega Charizard X|  Fire|Dragon| 78|   130|    111|   130|    85|  100|         1|    FALSE|\n",
            "|      9|Mega Charizard Y|  Fire|Flying| 78|   104|     78|   159|   115|  100|         1|    FALSE|\n",
            "|     10|        Squirtle| Water|  null| 44|    48|     65|    50|    64|   43|         1|    FALSE|\n",
            "|     11|       Wartortle| Water|  null| 59|    63|     80|    65|    80|   58|         1|    FALSE|\n",
            "|     12|       Blastoise| Water|  null| 79|    83|    100|    85|   105|   78|         1|    FALSE|\n",
            "|     13|  Mega Blastoise| Water|  null| 79|   103|    120|   135|   115|   78|         1|    FALSE|\n",
            "|     14|        Caterpie|   Bug|  null| 45|    30|     35|    20|    20|   45|         1|    FALSE|\n",
            "|     15|         Metapod|   Bug|  null| 50|    20|     55|    25|    25|   30|         1|    FALSE|\n",
            "|     16|      Butterfree|   Bug|Flying| 60|    45|     50|    90|    80|   70|         1|    FALSE|\n",
            "|     17|          Weedle|   Bug|Poison| 40|    35|     30|    20|    20|   50|         1|    FALSE|\n",
            "|     18|          Kakuna|   Bug|Poison| 45|    25|     50|    25|    25|   35|         1|    FALSE|\n",
            "|     19|        Beedrill|   Bug|Poison| 65|    90|     40|    45|    80|   75|         1|    FALSE|\n",
            "|     20|   Mega Beedrill|   Bug|Poison| 65|   150|     40|    15|    80|  145|         1|    FALSE|\n",
            "+-------+----------------+------+------+---+------+-------+------+------+-----+----------+---------+\n",
            "only showing top 20 rows\n",
            "\n"
          ]
        }
      ]
    },
    {
      "cell_type": "code",
      "source": [
        "pokemon.createOrReplaceTempView(\"DATAP\")\n",
        "combat_stats.createOrReplaceTempView(\"DATAS\")\n",
        "\n",
        "data = spark.sql(\"SELECT F.Pokedex, F.HP, F.Attack, F.Defense, F.Sp_Atk, F.Sp_Def, F.Speed, S.WinPercent  \\\n",
        "                  FROM DATAP F \\\n",
        "                  INNER JOIN DATAS S ON F.Pokedex = S.Pokedex \\\n",
        "                  ORDER BY CAST(S.Pokedex AS INT) ASC\")\n",
        "data.show()"
      ],
      "metadata": {
        "colab": {
          "base_uri": "https://localhost:8080/"
        },
        "id": "nKRnaxV6f8PF",
        "outputId": "548e546b-35ab-41aa-c2e3-1a83803cad40"
      },
      "execution_count": 91,
      "outputs": [
        {
          "output_type": "stream",
          "name": "stdout",
          "text": [
            "+-------+---+------+-------+------+------+-----+-------------------+\n",
            "|Pokedex| HP|Attack|Defense|Sp_Atk|Sp_Def|Speed|         WinPercent|\n",
            "+-------+---+------+-------+------+------+-----+-------------------+\n",
            "|      1| 45|    49|     49|    65|    65|   45| 0.2781954887218045|\n",
            "|      2| 60|    62|     63|    80|    80|   60|0.38016528925619836|\n",
            "|      3| 80|    82|     83|   100|   100|   80| 0.6742424242424242|\n",
            "|      4| 80|   100|    123|   122|   120|   80|               0.56|\n",
            "|      5| 39|    52|     43|    60|    50|   65|0.49107142857142855|\n",
            "|      6| 58|    64|     58|    80|    65|   80| 0.5423728813559322|\n",
            "|      7| 78|    84|     78|   109|    85|  100| 0.8646616541353384|\n",
            "|      8| 78|   130|    111|   130|    85|  100| 0.8561151079136691|\n",
            "|      9| 78|   104|     78|   159|   115|  100| 0.8444444444444444|\n",
            "|     10| 44|    48|     65|    50|    64|   43| 0.1623931623931624|\n",
            "|     11| 59|    63|     80|    65|    80|   58|0.41843971631205673|\n",
            "|     13| 79|   103|    120|   135|   115|   78| 0.5763888888888888|\n",
            "|     14| 45|    30|     35|    20|    20|   45|0.14782608695652175|\n",
            "|     15| 50|    20|     55|    25|    25|   30|0.09774436090225563|\n",
            "|     16| 60|    45|     50|    90|    80|   70|              0.625|\n",
            "|     17| 40|    35|     30|    20|    20|   50|0.23423423423423423|\n",
            "|     18| 45|    25|     50|    25|    25|   35|0.13076923076923078|\n",
            "|     19| 65|    90|     40|    45|    80|   75|              0.625|\n",
            "|     20| 65|   150|     40|    15|    80|  145| 0.9663865546218487|\n",
            "|     21| 40|    45|     40|    35|    35|   56|  0.373015873015873|\n",
            "+-------+---+------+-------+------+------+-----+-------------------+\n",
            "only showing top 20 rows\n",
            "\n"
          ]
        }
      ]
    },
    {
      "cell_type": "code",
      "source": [
        "data.dtypes"
      ],
      "metadata": {
        "colab": {
          "base_uri": "https://localhost:8080/"
        },
        "id": "hIiD6490i99A",
        "outputId": "6331281f-65e5-4199-ec28-9c0abda401c9"
      },
      "execution_count": 92,
      "outputs": [
        {
          "output_type": "execute_result",
          "data": {
            "text/plain": [
              "[('Pokedex', 'string'),\n",
              " ('HP', 'string'),\n",
              " ('Attack', 'string'),\n",
              " ('Defense', 'string'),\n",
              " ('Sp_Atk', 'string'),\n",
              " ('Sp_Def', 'string'),\n",
              " ('Speed', 'string'),\n",
              " ('WinPercent', 'double')]"
            ]
          },
          "metadata": {},
          "execution_count": 92
        }
      ]
    },
    {
      "cell_type": "code",
      "source": [
        "data = data.withColumn(\"HP\", data[\"HP\"].cast(IntegerType()))\n",
        "data = data.withColumn(\"Attack\", data[\"Attack\"].cast(IntegerType()))\n",
        "data = data.withColumn(\"Defense\", data[\"Defense\"].cast(IntegerType()))\n",
        "data = data.withColumn(\"Sp_Atk\", data[\"Sp_Atk\"].cast(IntegerType()))\n",
        "data = data.withColumn(\"Sp_Def\", data[\"Sp_Def\"].cast(IntegerType()))\n",
        "data = data.withColumn(\"Speed\", data[\"Speed\"].cast(IntegerType()))"
      ],
      "metadata": {
        "id": "ezIMrx7XjJZa"
      },
      "execution_count": 93,
      "outputs": []
    },
    {
      "cell_type": "code",
      "source": [
        "data.dtypes"
      ],
      "metadata": {
        "colab": {
          "base_uri": "https://localhost:8080/"
        },
        "id": "vawy0dEsvtdj",
        "outputId": "4536d0bf-e104-4eda-96e6-fcfe41aa6021"
      },
      "execution_count": 94,
      "outputs": [
        {
          "output_type": "execute_result",
          "data": {
            "text/plain": [
              "[('Pokedex', 'string'),\n",
              " ('HP', 'int'),\n",
              " ('Attack', 'int'),\n",
              " ('Defense', 'int'),\n",
              " ('Sp_Atk', 'int'),\n",
              " ('Sp_Def', 'int'),\n",
              " ('Speed', 'int'),\n",
              " ('WinPercent', 'double')]"
            ]
          },
          "metadata": {},
          "execution_count": 94
        }
      ]
    },
    {
      "cell_type": "code",
      "source": [
        "NullDict = {col:data.filter(data[col].isNull()).count() for col in data.columns}\n",
        "NullDict"
      ],
      "metadata": {
        "colab": {
          "base_uri": "https://localhost:8080/"
        },
        "id": "5_ulYldgw4X0",
        "outputId": "df94c5d8-d301-426f-c28d-f38a8420b459"
      },
      "execution_count": 95,
      "outputs": [
        {
          "output_type": "execute_result",
          "data": {
            "text/plain": [
              "{'Attack': 0,\n",
              " 'Defense': 0,\n",
              " 'HP': 0,\n",
              " 'Pokedex': 0,\n",
              " 'Sp_Atk': 0,\n",
              " 'Sp_Def': 0,\n",
              " 'Speed': 0,\n",
              " 'WinPercent': 1}"
            ]
          },
          "metadata": {},
          "execution_count": 95
        }
      ]
    },
    {
      "cell_type": "code",
      "source": [
        "data.filter(\"WinPercent IS NULL\").show()"
      ],
      "metadata": {
        "colab": {
          "base_uri": "https://localhost:8080/"
        },
        "id": "q6gAjAF-y6Mm",
        "outputId": "a88bfb42-1093-4719-e0bd-bb57cbc3a9f3"
      },
      "execution_count": 96,
      "outputs": [
        {
          "output_type": "stream",
          "name": "stdout",
          "text": [
            "+-------+---+------+-------+------+------+-----+----------+\n",
            "|Pokedex| HP|Attack|Defense|Sp_Atk|Sp_Def|Speed|WinPercent|\n",
            "+-------+---+------+-------+------+------+-----+----------+\n",
            "|    231| 20|    10|    230|    10|   230|    5|      null|\n",
            "+-------+---+------+-------+------+------+-----+----------+\n",
            "\n"
          ]
        }
      ]
    },
    {
      "cell_type": "code",
      "source": [
        "data = data.na.drop()"
      ],
      "metadata": {
        "id": "-drHzmtyzPVk"
      },
      "execution_count": 97,
      "outputs": []
    },
    {
      "cell_type": "code",
      "source": [
        "data.filter(\"WinPercent IS NULL\").show()"
      ],
      "metadata": {
        "colab": {
          "base_uri": "https://localhost:8080/"
        },
        "id": "iodTR8zxzWxi",
        "outputId": "846a7830-2a12-44fb-8b99-82297548b0ff"
      },
      "execution_count": 98,
      "outputs": [
        {
          "output_type": "stream",
          "name": "stdout",
          "text": [
            "+-------+---+------+-------+------+------+-----+----------+\n",
            "|Pokedex| HP|Attack|Defense|Sp_Atk|Sp_Def|Speed|WinPercent|\n",
            "+-------+---+------+-------+------+------+-----+----------+\n",
            "+-------+---+------+-------+------+------+-----+----------+\n",
            "\n"
          ]
        }
      ]
    },
    {
      "cell_type": "code",
      "source": [
        "from pyspark.ml.feature import VectorAssembler\n",
        "featureassembler=VectorAssembler(inputCols=[\"HP\",\"Attack\", \"Defense\", \"Sp_Atk\", \"Sp_Def\", \"Speed\"],outputCol=\"Independent Features\")"
      ],
      "metadata": {
        "id": "BfvWfipQiWhn"
      },
      "execution_count": 101,
      "outputs": []
    },
    {
      "cell_type": "code",
      "source": [
        "output=featureassembler.transform(data)"
      ],
      "metadata": {
        "id": "XjyiTST1fvmj"
      },
      "execution_count": 102,
      "outputs": []
    },
    {
      "cell_type": "code",
      "source": [
        "output.show()"
      ],
      "metadata": {
        "colab": {
          "base_uri": "https://localhost:8080/"
        },
        "id": "4OAqMOTXjxlg",
        "outputId": "2f794e0c-4148-4375-9e66-29cc92db9df4"
      },
      "execution_count": 103,
      "outputs": [
        {
          "output_type": "stream",
          "name": "stdout",
          "text": [
            "+-------+---+------+-------+------+------+-----+-------------------+--------------------+\n",
            "|Pokedex| HP|Attack|Defense|Sp_Atk|Sp_Def|Speed|         WinPercent|Independent Features|\n",
            "+-------+---+------+-------+------+------+-----+-------------------+--------------------+\n",
            "|      1| 45|    49|     49|    65|    65|   45| 0.2781954887218045|[45.0,49.0,49.0,6...|\n",
            "|      2| 60|    62|     63|    80|    80|   60|0.38016528925619836|[60.0,62.0,63.0,8...|\n",
            "|      3| 80|    82|     83|   100|   100|   80| 0.6742424242424242|[80.0,82.0,83.0,1...|\n",
            "|      4| 80|   100|    123|   122|   120|   80|               0.56|[80.0,100.0,123.0...|\n",
            "|      5| 39|    52|     43|    60|    50|   65|0.49107142857142855|[39.0,52.0,43.0,6...|\n",
            "|      6| 58|    64|     58|    80|    65|   80| 0.5423728813559322|[58.0,64.0,58.0,8...|\n",
            "|      7| 78|    84|     78|   109|    85|  100| 0.8646616541353384|[78.0,84.0,78.0,1...|\n",
            "|      8| 78|   130|    111|   130|    85|  100| 0.8561151079136691|[78.0,130.0,111.0...|\n",
            "|      9| 78|   104|     78|   159|   115|  100| 0.8444444444444444|[78.0,104.0,78.0,...|\n",
            "|     10| 44|    48|     65|    50|    64|   43| 0.1623931623931624|[44.0,48.0,65.0,5...|\n",
            "|     11| 59|    63|     80|    65|    80|   58|0.41843971631205673|[59.0,63.0,80.0,6...|\n",
            "|     13| 79|   103|    120|   135|   115|   78| 0.5763888888888888|[79.0,103.0,120.0...|\n",
            "|     14| 45|    30|     35|    20|    20|   45|0.14782608695652175|[45.0,30.0,35.0,2...|\n",
            "|     15| 50|    20|     55|    25|    25|   30|0.09774436090225563|[50.0,20.0,55.0,2...|\n",
            "|     16| 60|    45|     50|    90|    80|   70|              0.625|[60.0,45.0,50.0,9...|\n",
            "|     17| 40|    35|     30|    20|    20|   50|0.23423423423423423|[40.0,35.0,30.0,2...|\n",
            "|     18| 45|    25|     50|    25|    25|   35|0.13076923076923078|[45.0,25.0,50.0,2...|\n",
            "|     19| 65|    90|     40|    45|    80|   75|              0.625|[65.0,90.0,40.0,4...|\n",
            "|     20| 65|   150|     40|    15|    80|  145| 0.9663865546218487|[65.0,150.0,40.0,...|\n",
            "|     21| 40|    45|     40|    35|    35|   56|  0.373015873015873|[40.0,45.0,40.0,3...|\n",
            "+-------+---+------+-------+------+------+-----+-------------------+--------------------+\n",
            "only showing top 20 rows\n",
            "\n"
          ]
        }
      ]
    },
    {
      "cell_type": "code",
      "source": [
        "finalized_data=output.select(\"Independent Features\",\"WinPercent\")"
      ],
      "metadata": {
        "id": "2O84JMuJj_2y"
      },
      "execution_count": 104,
      "outputs": []
    },
    {
      "cell_type": "code",
      "source": [
        "finalized_data.show()"
      ],
      "metadata": {
        "colab": {
          "base_uri": "https://localhost:8080/"
        },
        "id": "THRvnrhDkEo4",
        "outputId": "9d7fbe4e-0967-4a02-86ea-fc7f51e088dc"
      },
      "execution_count": 105,
      "outputs": [
        {
          "output_type": "stream",
          "name": "stdout",
          "text": [
            "+--------------------+-------------------+\n",
            "|Independent Features|         WinPercent|\n",
            "+--------------------+-------------------+\n",
            "|[45.0,49.0,49.0,6...| 0.2781954887218045|\n",
            "|[60.0,62.0,63.0,8...|0.38016528925619836|\n",
            "|[80.0,82.0,83.0,1...| 0.6742424242424242|\n",
            "|[80.0,100.0,123.0...|               0.56|\n",
            "|[39.0,52.0,43.0,6...|0.49107142857142855|\n",
            "|[58.0,64.0,58.0,8...| 0.5423728813559322|\n",
            "|[78.0,84.0,78.0,1...| 0.8646616541353384|\n",
            "|[78.0,130.0,111.0...| 0.8561151079136691|\n",
            "|[78.0,104.0,78.0,...| 0.8444444444444444|\n",
            "|[44.0,48.0,65.0,5...| 0.1623931623931624|\n",
            "|[59.0,63.0,80.0,6...|0.41843971631205673|\n",
            "|[79.0,103.0,120.0...| 0.5763888888888888|\n",
            "|[45.0,30.0,35.0,2...|0.14782608695652175|\n",
            "|[50.0,20.0,55.0,2...|0.09774436090225563|\n",
            "|[60.0,45.0,50.0,9...|              0.625|\n",
            "|[40.0,35.0,30.0,2...|0.23423423423423423|\n",
            "|[45.0,25.0,50.0,2...|0.13076923076923078|\n",
            "|[65.0,90.0,40.0,4...|              0.625|\n",
            "|[65.0,150.0,40.0,...| 0.9663865546218487|\n",
            "|[40.0,45.0,40.0,3...|  0.373015873015873|\n",
            "+--------------------+-------------------+\n",
            "only showing top 20 rows\n",
            "\n"
          ]
        }
      ]
    },
    {
      "cell_type": "code",
      "source": [
        "finalized_data.dtypes"
      ],
      "metadata": {
        "colab": {
          "base_uri": "https://localhost:8080/"
        },
        "id": "A7a_NPKYv14w",
        "outputId": "69f6fd81-8ddd-45e8-ae74-beec146091e0"
      },
      "execution_count": 106,
      "outputs": [
        {
          "output_type": "execute_result",
          "data": {
            "text/plain": [
              "[('Independent Features', 'vector'), ('WinPercent', 'double')]"
            ]
          },
          "metadata": {},
          "execution_count": 106
        }
      ]
    },
    {
      "cell_type": "code",
      "source": [
        "from pyspark.ml.regression import LinearRegression\n",
        "##train test split\n",
        "train_data,test_data=finalized_data.randomSplit([0.75,0.25])\n",
        "regressor=LinearRegression(featuresCol='Independent Features', labelCol='WinPercent')\n",
        "regressor=regressor.fit(train_data)"
      ],
      "metadata": {
        "id": "Z7gupc9av66j"
      },
      "execution_count": 107,
      "outputs": []
    },
    {
      "cell_type": "code",
      "source": [
        "regressor.coefficients"
      ],
      "metadata": {
        "colab": {
          "base_uri": "https://localhost:8080/"
        },
        "id": "EEw2SesPz5pH",
        "outputId": "7d184876-c80a-485d-8e33-10460e9fd19e"
      },
      "execution_count": 108,
      "outputs": [
        {
          "output_type": "execute_result",
          "data": {
            "text/plain": [
              "DenseVector([0.0003, 0.0011, 0.0002, -0.0003, 0.0002, 0.0078])"
            ]
          },
          "metadata": {},
          "execution_count": 108
        }
      ]
    },
    {
      "cell_type": "code",
      "source": [
        "regressor.intercept"
      ],
      "metadata": {
        "colab": {
          "base_uri": "https://localhost:8080/"
        },
        "id": "3hg1r_3az8Ry",
        "outputId": "a2026e9d-83fd-4432-93aa-ed5d9a31073c"
      },
      "execution_count": 109,
      "outputs": [
        {
          "output_type": "execute_result",
          "data": {
            "text/plain": [
              "-0.15563017145022529"
            ]
          },
          "metadata": {},
          "execution_count": 109
        }
      ]
    },
    {
      "cell_type": "code",
      "source": [
        "### Predictions\n",
        "pred_results=regressor.evaluate(test_data)"
      ],
      "metadata": {
        "id": "nSwUJKtEz_Vq"
      },
      "execution_count": 110,
      "outputs": []
    },
    {
      "cell_type": "code",
      "source": [
        "## Final comparison\n",
        "pred_results.predictions.show()"
      ],
      "metadata": {
        "colab": {
          "base_uri": "https://localhost:8080/"
        },
        "id": "US6GMjc-0DFL",
        "outputId": "18735937-b39b-4413-c8ab-913c93a34b40"
      },
      "execution_count": 111,
      "outputs": [
        {
          "output_type": "stream",
          "name": "stderr",
          "text": [
            "/usr/local/lib/python3.7/dist-packages/pyspark/sql/context.py:127: FutureWarning: Deprecated in 3.0.0. Use SparkSession.builder.getOrCreate() instead.\n",
            "  FutureWarning\n"
          ]
        },
        {
          "output_type": "stream",
          "name": "stdout",
          "text": [
            "+--------------------+--------------------+-------------------+\n",
            "|Independent Features|          WinPercent|         prediction|\n",
            "+--------------------+--------------------+-------------------+\n",
            "|[20.0,10.0,55.0,1...| 0.17985611510791366| 0.5003469782244446|\n",
            "|[25.0,35.0,70.0,9...| 0.16783216783216784|0.24192773573239884|\n",
            "|[30.0,42.0,118.0,...|               0.112|  0.165594556631028|\n",
            "|[30.0,56.0,35.0,2...| 0.48148148148148145|  0.486266415547818|\n",
            "|[30.0,65.0,100.0,...|  0.1891891891891892| 0.2510100296235759|\n",
            "|[35.0,55.0,40.0,4...| 0.35714285714285715|0.38910160735227295|\n",
            "|[35.0,60.0,44.0,4...|   0.366412213740458|0.36043671484085915|\n",
            "|[38.0,41.0,40.0,5...|  0.4108527131782946| 0.4179825155584709|\n",
            "|[40.0,29.0,45.0,2...| 0.14634146341463414|0.18129656762534102|\n",
            "|[40.0,30.0,32.0,5...|           0.3671875|  0.402439558213035|\n",
            "|[40.0,30.0,35.0,5...| 0.28205128205128205|0.32838763523835396|\n",
            "|[40.0,40.0,40.0,7...|0.032520325203252036|0.05384312454484494|\n",
            "|[40.0,45.0,35.0,3...|  0.3793103448275862|0.34401306660814474|\n",
            "|[40.0,45.0,65.0,1...|  0.5588235294117647| 0.6213088061581566|\n",
            "|[40.0,55.0,30.0,3...| 0.43548387096774194| 0.3908289306005378|\n",
            "|[40.0,60.0,30.0,3...|  0.4492753623188406|0.47452540062204673|\n",
            "|[40.0,80.0,100.0,...| 0.11851851851851852|0.11887089705754306|\n",
            "|[41.0,56.0,40.0,6...|               0.568|0.47433683441742835|\n",
            "|[43.0,30.0,55.0,4...|  0.6030534351145038| 0.6647316502159819|\n",
            "|[43.0,70.0,48.0,5...|  0.2391304347826087| 0.2397077630723763|\n",
            "+--------------------+--------------------+-------------------+\n",
            "only showing top 20 rows\n",
            "\n"
          ]
        }
      ]
    },
    {
      "cell_type": "code",
      "source": [
        "### PErformance Metrics\n",
        "pred_results.r2,pred_results.meanAbsoluteError,pred_results.meanSquaredError"
      ],
      "metadata": {
        "colab": {
          "base_uri": "https://localhost:8080/"
        },
        "id": "BYYANFwy0Myh",
        "outputId": "c2513341-1307-4c94-9a94-5cae20fb7165"
      },
      "execution_count": 112,
      "outputs": [
        {
          "output_type": "execute_result",
          "data": {
            "text/plain": [
              "(0.9008711857542303, 0.06094649009878368, 0.006350757071617947)"
            ]
          },
          "metadata": {},
          "execution_count": 112
        }
      ]
    }
  ]
}